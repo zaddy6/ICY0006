{
 "cells": [
  {
   "cell_type": "markdown",
   "metadata": {
    "id": "SG9hQ6a_WJ7F"
   },
   "source": [
    "**Stage One**"
   ]
  },
  {
   "cell_type": "markdown",
   "metadata": {
    "id": "ZOJ72T-aW1gq"
   },
   "source": [
    "**Step One**\n",
    "\n",
    "Read in your data"
   ]
  },
  {
   "cell_type": "code",
   "execution_count": 2,
   "metadata": {
    "id": "5iTjji8IUeGm"
   },
   "outputs": [],
   "source": [
    "#importing necessary reading, processing and visualization library\n",
    "\n",
    "import pandas as pd\n",
    "import numpy as np\n",
    "import seaborn as sns\n",
    "import matplotlib.pyplot as plt\n",
    "from matplotlib import pyplot\n",
    "from pylab import rcParams\n",
    "from pandas import set_option\n",
    "from pandas.plotting import scatter_matrix\n",
    "import warnings\n",
    "warnings.filterwarnings(\"ignore\")\n",
    "%matplotlib inline"
   ]
  },
  {
   "cell_type": "code",
   "execution_count": 3,
   "metadata": {
    "colab": {
     "base_uri": "https://localhost:8080/",
     "height": 221
    },
    "id": "-7Dn6AIfWtv6",
    "outputId": "e317e3d6-9bfa-4e7a-ca02-5f48d157a0fb"
   },
   "outputs": [
    {
     "name": "stdout",
     "output_type": "stream",
     "text": [
      "shape of train data is: (243, 10)\n"
     ]
    },
    {
     "data": {
      "text/html": [
       "<div>\n",
       "<style scoped>\n",
       "    .dataframe tbody tr th:only-of-type {\n",
       "        vertical-align: middle;\n",
       "    }\n",
       "\n",
       "    .dataframe tbody tr th {\n",
       "        vertical-align: top;\n",
       "    }\n",
       "\n",
       "    .dataframe thead th {\n",
       "        text-align: right;\n",
       "    }\n",
       "</style>\n",
       "<table border=\"1\" class=\"dataframe\">\n",
       "  <thead>\n",
       "    <tr style=\"text-align: right;\">\n",
       "      <th></th>\n",
       "      <th>id</th>\n",
       "      <th>bedrooms</th>\n",
       "      <th>bathrooms</th>\n",
       "      <th>toilets</th>\n",
       "      <th>parking</th>\n",
       "      <th>description</th>\n",
       "      <th>other_description</th>\n",
       "      <th>location</th>\n",
       "      <th>spec_location</th>\n",
       "      <th>price</th>\n",
       "    </tr>\n",
       "  </thead>\n",
       "  <tbody>\n",
       "    <tr>\n",
       "      <th>0</th>\n",
       "      <td>9026</td>\n",
       "      <td>2</td>\n",
       "      <td>2</td>\n",
       "      <td>3</td>\n",
       "      <td>5</td>\n",
       "      <td>2 bedroom flat for rent</td>\n",
       "      <td>2 Bedroom Flat</td>\n",
       "      <td>surulere</td>\n",
       "      <td>Off Adekunle Kuye Street., Kilo, Surulere, Lagos</td>\n",
       "      <td>1000000</td>\n",
       "    </tr>\n",
       "    <tr>\n",
       "      <th>1</th>\n",
       "      <td>40390</td>\n",
       "      <td>1</td>\n",
       "      <td>1</td>\n",
       "      <td>1</td>\n",
       "      <td>1</td>\n",
       "      <td>1 bedroom mini flat for rent</td>\n",
       "      <td>Mini Flat</td>\n",
       "      <td>surulere</td>\n",
       "      <td>Nnobi Street, Kilo, Surulere, Lagos</td>\n",
       "      <td>370000</td>\n",
       "    </tr>\n",
       "    <tr>\n",
       "      <th>2</th>\n",
       "      <td>85193</td>\n",
       "      <td>2</td>\n",
       "      <td>2</td>\n",
       "      <td>3</td>\n",
       "      <td>2</td>\n",
       "      <td>2 bedroom flat for rent</td>\n",
       "      <td>Relatively New 2bedroom Flat Apartment</td>\n",
       "      <td>gbagada</td>\n",
       "      <td>Atunrase Estate, Gbagada, Lagos</td>\n",
       "      <td>1100000</td>\n",
       "    </tr>\n",
       "    <tr>\n",
       "      <th>3</th>\n",
       "      <td>14410</td>\n",
       "      <td>1</td>\n",
       "      <td>1</td>\n",
       "      <td>1</td>\n",
       "      <td>1</td>\n",
       "      <td>1 bedroom self contained (single rooms) for rent</td>\n",
       "      <td>Luxurious Room Self Contained</td>\n",
       "      <td>gbagada</td>\n",
       "      <td>Ola Adebiyi Street Peace Estate, Soluyi, Gbaga...</td>\n",
       "      <td>400000</td>\n",
       "    </tr>\n",
       "    <tr>\n",
       "      <th>4</th>\n",
       "      <td>86032</td>\n",
       "      <td>3</td>\n",
       "      <td>2</td>\n",
       "      <td>2</td>\n",
       "      <td>2</td>\n",
       "      <td>3 bedroom flat for rent</td>\n",
       "      <td>Renovated 3 Bedrooms Ground Flat</td>\n",
       "      <td>gbagada</td>\n",
       "      <td>Soluyi, Gbagada, Lagos</td>\n",
       "      <td>1200000</td>\n",
       "    </tr>\n",
       "  </tbody>\n",
       "</table>\n",
       "</div>"
      ],
      "text/plain": [
       "      id  bedrooms  ...                                      spec_location    price\n",
       "0   9026         2  ...   Off Adekunle Kuye Street., Kilo, Surulere, Lagos  1000000\n",
       "1  40390         1  ...                Nnobi Street, Kilo, Surulere, Lagos   370000\n",
       "2  85193         2  ...                    Atunrase Estate, Gbagada, Lagos  1100000\n",
       "3  14410         1  ...  Ola Adebiyi Street Peace Estate, Soluyi, Gbaga...   400000\n",
       "4  86032         3  ...                             Soluyi, Gbagada, Lagos  1200000\n",
       "\n",
       "[5 rows x 10 columns]"
      ]
     },
     "execution_count": 3,
     "metadata": {
      "tags": []
     },
     "output_type": "execute_result"
    }
   ],
   "source": [
    "#reading of all dataset\n",
    "train = pd.read_csv('train.csv')\n",
    "print(\"shape of train data is: {}\".format(train.shape))\n",
    "train.head()"
   ]
  },
  {
   "cell_type": "markdown",
   "metadata": {
    "id": "D6Tu0ABicCIP"
   },
   "source": [
    "#### **Step 2**\n",
    "\n",
    "\n",
    "\n"
   ]
  },
  {
   "cell_type": "markdown",
   "metadata": {
    "id": "omrjYdux58ig"
   },
   "source": [
    "\n",
    "### **House prices prediction across specific locations in Lagos**\n",
    "\n",
    "* The dataset was gotten from: [kaggle](https://www.kaggle.com/c/pythonhome-challenge/data?select=train.csv)\n",
    "\n",
    "#### **Data Dictionary**\n",
    "\n",
    "| Variable Names     | Meaning |\n",
    "| ----------- | ----------- |\n",
    "| ID      | This is each house identity number stored in the database.|\n",
    "| Bedrooms   | This is a numerical variable which is always present in every house and it's the rooms in house where the actual buyer(who has paid for the house) or owner sleeps. It ranges from 1 to 9 in the dataset.This is an independent variable.|     \n",
    "| Bathrooms |  This is a numerical variable which is always present in every house and it's a room where the actual buyer(who has paid for the house) or owner bath.It range from 1 to 5 in the dataset.This is an independent variable.|\n",
    "| Toilets | This is a numerical variable which is always present in every house. it range from 1 to 5.This is an independent variable.|\n",
    "| Parking | This is a numerical variable which is not always present in every house. Its a free space where the owner can keep large things of theirs. It range from 0 to 9.This is an independent variable.|\n",
    "| Description |  This is a caterogrical variable which holds information related to the type of house in the dataset. Data extracted here will be used as an independent variable.|\n",
    "| Other_description |This is a caterogrical variable that also holds information about the house related to the kind such as Luxurious, renovated etc.Data extracted here will be used as an independent variable.|\n",
    "| Location | This is a categorical vaiable that holds the Local Government Area of each house.Data here will be used as an independent variable.|\n",
    "| Spec_location |  This is a caterogrical variable that holds the specific address of the house.Data extracted here will be used as an independent variable.|\n",
    "| Price | This is a numerical variable that holds the amount the house will be sold. This is also our dependent variable.|\n",
    "\n"
   ]
  },
  {
   "cell_type": "code",
   "execution_count": 4,
   "metadata": {
    "colab": {
     "base_uri": "https://localhost:8080/"
    },
    "id": "QIEKgEO0bF4x",
    "outputId": "921ac377-80aa-44ab-b698-f1f1d106b578"
   },
   "outputs": [
    {
     "name": "stdout",
     "output_type": "stream",
     "text": [
      "<class 'pandas.core.frame.DataFrame'>\n",
      "RangeIndex: 243 entries, 0 to 242\n",
      "Data columns (total 10 columns):\n",
      " #   Column             Non-Null Count  Dtype \n",
      "---  ------             --------------  ----- \n",
      " 0   id                 243 non-null    int64 \n",
      " 1   bedrooms           243 non-null    int64 \n",
      " 2   bathrooms          243 non-null    int64 \n",
      " 3   toilets            243 non-null    int64 \n",
      " 4   parking            243 non-null    int64 \n",
      " 5   description        243 non-null    object\n",
      " 6   other_description  243 non-null    object\n",
      " 7   location           243 non-null    object\n",
      " 8   spec_location      243 non-null    object\n",
      " 9   price              243 non-null    int64 \n",
      "dtypes: int64(6), object(4)\n",
      "memory usage: 19.1+ KB\n"
     ]
    }
   ],
   "source": [
    "train.info()"
   ]
  },
  {
   "cell_type": "markdown",
   "metadata": {
    "id": "a32q3Cq7mFrr"
   },
   "source": [
    "The dataset has 6 numerical variable represented as int64 and 4 categorical variable represented as object"
   ]
  },
  {
   "cell_type": "markdown",
   "metadata": {
    "id": "0DHSe2ObnKg6"
   },
   "source": [
    "**Step 3**\n",
    "* Look for missing values, or errors (NA etc) in the dataset."
   ]
  },
  {
   "cell_type": "code",
   "execution_count": 5,
   "metadata": {
    "colab": {
     "base_uri": "https://localhost:8080/"
    },
    "id": "rwtykEiAmxMK",
    "outputId": "d2c99428-e5ec-42a3-bf4d-a3a11416e046"
   },
   "outputs": [
    {
     "name": "stdout",
     "output_type": "stream",
     "text": [
      "id: 0 missing value\n",
      "bedrooms: 0 missing value\n",
      "bathrooms: 0 missing value\n",
      "toilets: 0 missing value\n",
      "parking: 0 missing value\n",
      "description: 0 missing value\n",
      "other_description: 0 missing value\n",
      "location: 0 missing value\n",
      "spec_location: 0 missing value\n",
      "price: 0 missing value\n"
     ]
    }
   ],
   "source": [
    "for i in train.columns:\n",
    "    print(i + \": \"+str(sum(train[i].isnull()))+\" missing value\")"
   ]
  },
  {
   "cell_type": "markdown",
   "metadata": {
    "id": "kANi7aq_nbzq"
   },
   "source": [
    "This dataset apperently has no missing value. However, i will list some steps to take in solving missing values"
   ]
  },
  {
   "cell_type": "markdown",
   "metadata": {
    "id": "kWyUUG28nnIy"
   },
   "source": [
    "#### **Handling missing Value in a dataset**\n",
    "\n",
    "**Different types of Missing Data and Method to use**\n",
    "* Missing Completely at Random, MCAR: A variable is missing completely at random (MCAR) if the probability of being missing is the same for all the observations. When data is MCAR, there is absolutely no relationship between the data missing and any other values, observed or missing, within the dataset. In other words, those missing data points are a random subset of the data.\n",
    "\n",
    "**Methods for filling**\n",
    "\n",
    "1. we can fill using **Random Sample Imputation**. This method takes random observation from the dataset and use this observation to replace the nan values. The problem here is that every situation randomness won't work.\n",
    "\n",
    "2. we can also use **Capturing NAN values with a new feature** . \n",
    "3. \n",
    "End of Distribution imputation which captures the extreme data point to fill missing value \n",
    "\n",
    "* Missing Data Not At Random(MNAR): Systematic missing Values There is absolutely some relationship between the data missing and any other values, observed or missing, within the dataset.For this we can fill with **Mean,Median or mode**. However, this has its own advantage such as roust to outliers and disadvantage such as distort the original variance. \n",
    "\n",
    "* Another technique of filling missing values is **MICE imputation** Multivariate Imputation by Chained Equation, is an imputation method which works by filling the missing data multiple times\n",
    "\n",
    "\n"
   ]
  },
  {
   "cell_type": "markdown",
   "metadata": {
    "id": "WTj-UzHdtZMC"
   },
   "source": [
    "**Step 4**\n",
    "* Do some data visualization. For now, we are mostly interested in distribution graphs."
   ]
  },
  {
   "cell_type": "code",
   "execution_count": 6,
   "metadata": {
    "colab": {
     "base_uri": "https://localhost:8080/",
     "height": 307
    },
    "id": "FwT_7q8HnW6X",
    "outputId": "01a19ca2-494b-4e49-9f98-9458ed085afc"
   },
   "outputs": [
    {
     "data": {
      "text/plain": [
       "<matplotlib.axes._subplots.AxesSubplot at 0x7f2c786ced30>"
      ]
     },
     "execution_count": 6,
     "metadata": {
      "tags": []
     },
     "output_type": "execute_result"
    },
    {
     "data": {
      "image/png": "[encoded data removed]",
      "text/plain": [
       "<Figure size 432x288 with 1 Axes>"
      ]
     },
     "metadata": {
      "needs_background": "light",
      "tags": []
     },
     "output_type": "display_data"
    }
   ],
   "source": [
    "sns.distplot(train['price'])"
   ]
  },
  {
   "cell_type": "code",
   "execution_count": 7,
   "metadata": {
    "colab": {
     "base_uri": "https://localhost:8080/",
     "height": 296
    },
    "id": "UplF4pc-CXqy",
    "outputId": "ad4de408-c194-4577-ef76-32a413a826c6"
   },
   "outputs": [
    {
     "data": {
      "text/plain": [
       "<matplotlib.axes._subplots.AxesSubplot at 0x7f2ca00ef358>"
      ]
     },
     "execution_count": 7,
     "metadata": {
      "tags": []
     },
     "output_type": "execute_result"
    },
    {
     "data": {
      "image/png": "[encoded data removed]",
      "text/plain": [
       "<Figure size 432x288 with 1 Axes>"
      ]
     },
     "metadata": {
      "needs_background": "light",
      "tags": []
     },
     "output_type": "display_data"
    }
   ],
   "source": [
    "sns.distplot(train['bedrooms'])"
   ]
  },
  {
   "cell_type": "code",
   "execution_count": 8,
   "metadata": {
    "colab": {
     "base_uri": "https://localhost:8080/",
     "height": 296
    },
    "id": "C8kOOedcComy",
    "outputId": "88585a93-3904-4f7b-9092-ec67ce8bf2ea"
   },
   "outputs": [
    {
     "data": {
      "text/plain": [
       "<matplotlib.axes._subplots.AxesSubplot at 0x7f2c776a8b00>"
      ]
     },
     "execution_count": 8,
     "metadata": {
      "tags": []
     },
     "output_type": "execute_result"
    },
    {
     "data": {
      "image/png": "[encoded data removed]",
      "text/plain": [
       "<Figure size 432x288 with 1 Axes>"
      ]
     },
     "metadata": {
      "needs_background": "light",
      "tags": []
     },
     "output_type": "display_data"
    }
   ],
   "source": [
    "sns.distplot(train['bathrooms'])"
   ]
  },
  {
   "cell_type": "code",
   "execution_count": 9,
   "metadata": {
    "colab": {
     "base_uri": "https://localhost:8080/",
     "height": 296
    },
    "id": "CRvt9L3CCscu",
    "outputId": "2849f711-a09a-4119-f6ea-daa1ce0abb6f"
   },
   "outputs": [
    {
     "data": {
      "text/plain": [
       "<matplotlib.axes._subplots.AxesSubplot at 0x7f2c77601f28>"
      ]
     },
     "execution_count": 9,
     "metadata": {
      "tags": []
     },
     "output_type": "execute_result"
    },
    {
     "data": {
      "image/png": "[encoded data removed]",
      "text/plain": [
       "<Figure size 432x288 with 1 Axes>"
      ]
     },
     "metadata": {
      "needs_background": "light",
      "tags": []
     },
     "output_type": "display_data"
    }
   ],
   "source": [
    "sns.distplot(train['toilets'])"
   ]
  },
  {
   "cell_type": "code",
   "execution_count": 10,
   "metadata": {
    "colab": {
     "base_uri": "https://localhost:8080/",
     "height": 299
    },
    "id": "fZXX9QqgCwZP",
    "outputId": "4d779a79-d460-4ccd-84ab-6e51a949540e"
   },
   "outputs": [
    {
     "data": {
      "text/plain": [
       "<matplotlib.axes._subplots.AxesSubplot at 0x7f2c7759ffd0>"
      ]
     },
     "execution_count": 10,
     "metadata": {
      "tags": []
     },
     "output_type": "execute_result"
    },
    {
     "data": {
      "image/png": "[encoded data removed]",
      "text/plain": [
       "<Figure size 432x288 with 1 Axes>"
      ]
     },
     "metadata": {
      "needs_background": "light",
      "tags": []
     },
     "output_type": "display_data"
    }
   ],
   "source": [
    "sns.distplot(train['parking'])"
   ]
  },
  {
   "cell_type": "code",
   "execution_count": 11,
   "metadata": {
    "colab": {
     "base_uri": "https://localhost:8080/",
     "height": 1000
    },
    "id": "F-dCxgLQ0tGG",
    "outputId": "04309fa0-b9b2-455e-da4a-e0ec1b8002f0"
   },
   "outputs": [
    {
     "data": {
      "text/plain": [
       "<seaborn.axisgrid.PairGrid at 0x7f2c77489438>"
      ]
     },
     "execution_count": 11,
     "metadata": {
      "tags": []
     },
     "output_type": "execute_result"
    },
    {
     "data": {
      "image/png": "[encoded data removed]",
      "text/plain": [
       "<Figure size 1080x1080 with 42 Axes>"
      ]
     },
     "metadata": {
      "needs_background": "light",
      "tags": []
     },
     "output_type": "display_data"
    }
   ],
   "source": [
    "sns.pairplot(train)"
   ]
  },
  {
   "cell_type": "markdown",
   "metadata": {
    "id": "OVw1PuPXsJGr"
   },
   "source": [
    "#### **Stage 2**\n",
    "\n",
    "**Step 1**\n",
    "\n",
    "Do some quantitative overview of your data (for all variables, where this can be applied):\n",
    "* compute central tendency measures (mean, mode, median etc.),\n",
    "* compute variability measures."
   ]
  },
  {
   "cell_type": "code",
   "execution_count": 12,
   "metadata": {
    "colab": {
     "base_uri": "https://localhost:8080/",
     "height": 235
    },
    "id": "Wcws6f8hmhYa",
    "outputId": "afcf8478-b921-4309-dd1c-18cde060a9b6"
   },
   "outputs": [
    {
     "data": {
      "text/html": [
       "<div>\n",
       "<style scoped>\n",
       "    .dataframe tbody tr th:only-of-type {\n",
       "        vertical-align: middle;\n",
       "    }\n",
       "\n",
       "    .dataframe tbody tr th {\n",
       "        vertical-align: top;\n",
       "    }\n",
       "\n",
       "    .dataframe thead th {\n",
       "        text-align: right;\n",
       "    }\n",
       "</style>\n",
       "<table border=\"1\" class=\"dataframe\">\n",
       "  <thead>\n",
       "    <tr style=\"text-align: right;\">\n",
       "      <th></th>\n",
       "      <th>count</th>\n",
       "      <th>mean</th>\n",
       "      <th>std</th>\n",
       "      <th>min</th>\n",
       "      <th>25%</th>\n",
       "      <th>50%</th>\n",
       "      <th>75%</th>\n",
       "      <th>max</th>\n",
       "    </tr>\n",
       "  </thead>\n",
       "  <tbody>\n",
       "    <tr>\n",
       "      <th>id</th>\n",
       "      <td>243.0</td>\n",
       "      <td>5.100586e+04</td>\n",
       "      <td>28982.541730</td>\n",
       "      <td>12.0</td>\n",
       "      <td>27576.5</td>\n",
       "      <td>51814.0</td>\n",
       "      <td>71786.0</td>\n",
       "      <td>99752.0</td>\n",
       "    </tr>\n",
       "    <tr>\n",
       "      <th>bedrooms</th>\n",
       "      <td>243.0</td>\n",
       "      <td>2.296296e+00</td>\n",
       "      <td>0.954906</td>\n",
       "      <td>1.0</td>\n",
       "      <td>1.0</td>\n",
       "      <td>2.0</td>\n",
       "      <td>3.0</td>\n",
       "      <td>5.0</td>\n",
       "    </tr>\n",
       "    <tr>\n",
       "      <th>bathrooms</th>\n",
       "      <td>243.0</td>\n",
       "      <td>2.259259e+00</td>\n",
       "      <td>0.972062</td>\n",
       "      <td>1.0</td>\n",
       "      <td>1.0</td>\n",
       "      <td>2.0</td>\n",
       "      <td>3.0</td>\n",
       "      <td>5.0</td>\n",
       "    </tr>\n",
       "    <tr>\n",
       "      <th>toilets</th>\n",
       "      <td>243.0</td>\n",
       "      <td>2.641975e+00</td>\n",
       "      <td>1.205792</td>\n",
       "      <td>1.0</td>\n",
       "      <td>2.0</td>\n",
       "      <td>3.0</td>\n",
       "      <td>3.5</td>\n",
       "      <td>6.0</td>\n",
       "    </tr>\n",
       "    <tr>\n",
       "      <th>parking</th>\n",
       "      <td>243.0</td>\n",
       "      <td>2.724280e+00</td>\n",
       "      <td>1.983951</td>\n",
       "      <td>0.0</td>\n",
       "      <td>1.0</td>\n",
       "      <td>2.0</td>\n",
       "      <td>3.0</td>\n",
       "      <td>9.0</td>\n",
       "    </tr>\n",
       "    <tr>\n",
       "      <th>price</th>\n",
       "      <td>243.0</td>\n",
       "      <td>1.126352e+06</td>\n",
       "      <td>667289.689426</td>\n",
       "      <td>300000.0</td>\n",
       "      <td>600000.0</td>\n",
       "      <td>1000000.0</td>\n",
       "      <td>1500000.0</td>\n",
       "      <td>3000000.0</td>\n",
       "    </tr>\n",
       "  </tbody>\n",
       "</table>\n",
       "</div>"
      ],
      "text/plain": [
       "           count          mean            std  ...        50%        75%        max\n",
       "id         243.0  5.100586e+04   28982.541730  ...    51814.0    71786.0    99752.0\n",
       "bedrooms   243.0  2.296296e+00       0.954906  ...        2.0        3.0        5.0\n",
       "bathrooms  243.0  2.259259e+00       0.972062  ...        2.0        3.0        5.0\n",
       "toilets    243.0  2.641975e+00       1.205792  ...        3.0        3.5        6.0\n",
       "parking    243.0  2.724280e+00       1.983951  ...        2.0        3.0        9.0\n",
       "price      243.0  1.126352e+06  667289.689426  ...  1000000.0  1500000.0  3000000.0\n",
       "\n",
       "[6 rows x 8 columns]"
      ]
     },
     "execution_count": 12,
     "metadata": {
      "tags": []
     },
     "output_type": "execute_result"
    }
   ],
   "source": [
    "#checking all Statistical attribute in datase for numerical variable\n",
    "train.describe().T"
   ]
  },
  {
   "cell_type": "code",
   "execution_count": 13,
   "metadata": {
    "colab": {
     "base_uri": "https://localhost:8080/",
     "height": 173
    },
    "id": "bsa8oVLYeesY",
    "outputId": "7f887b2b-86c9-41f8-bbbb-1f727574ed65"
   },
   "outputs": [
    {
     "data": {
      "text/html": [
       "<div>\n",
       "<style scoped>\n",
       "    .dataframe tbody tr th:only-of-type {\n",
       "        vertical-align: middle;\n",
       "    }\n",
       "\n",
       "    .dataframe tbody tr th {\n",
       "        vertical-align: top;\n",
       "    }\n",
       "\n",
       "    .dataframe thead th {\n",
       "        text-align: right;\n",
       "    }\n",
       "</style>\n",
       "<table border=\"1\" class=\"dataframe\">\n",
       "  <thead>\n",
       "    <tr style=\"text-align: right;\">\n",
       "      <th></th>\n",
       "      <th>count</th>\n",
       "      <th>unique</th>\n",
       "      <th>top</th>\n",
       "      <th>freq</th>\n",
       "    </tr>\n",
       "  </thead>\n",
       "  <tbody>\n",
       "    <tr>\n",
       "      <th>description</th>\n",
       "      <td>243</td>\n",
       "      <td>20</td>\n",
       "      <td>3 bedroom flat for rent</td>\n",
       "      <td>90</td>\n",
       "    </tr>\n",
       "    <tr>\n",
       "      <th>other_description</th>\n",
       "      <td>243</td>\n",
       "      <td>219</td>\n",
       "      <td>Mini Flat</td>\n",
       "      <td>6</td>\n",
       "    </tr>\n",
       "    <tr>\n",
       "      <th>location</th>\n",
       "      <td>243</td>\n",
       "      <td>3</td>\n",
       "      <td>gbagada</td>\n",
       "      <td>95</td>\n",
       "    </tr>\n",
       "    <tr>\n",
       "      <th>spec_location</th>\n",
       "      <td>243</td>\n",
       "      <td>147</td>\n",
       "      <td>Yaba, Lagos</td>\n",
       "      <td>27</td>\n",
       "    </tr>\n",
       "  </tbody>\n",
       "</table>\n",
       "</div>"
      ],
      "text/plain": [
       "                  count unique                      top freq\n",
       "description         243     20  3 bedroom flat for rent   90\n",
       "other_description   243    219                Mini Flat    6\n",
       "location            243      3                  gbagada   95\n",
       "spec_location       243    147              Yaba, Lagos   27"
      ]
     },
     "execution_count": 13,
     "metadata": {
      "tags": []
     },
     "output_type": "execute_result"
    }
   ],
   "source": [
    "#checking all Statistical attribute in datase for categorical variable\n",
    "train.describe(include='object').T"
   ]
  },
  {
   "cell_type": "markdown",
   "metadata": {
    "id": "TLeASciNsg-l"
   },
   "source": [
    "**Write a summary:**\n",
    "* What can you see from those central tendency/ variability measures?\n",
    "* Does it corresponds to visual picture of distributions?\n",
    "* What you can conclude from this analysis?"
   ]
  },
  {
   "cell_type": "code",
   "execution_count": 14,
   "metadata": {
    "colab": {
     "base_uri": "https://localhost:8080/"
    },
    "id": "WiO06Zfq2ye2",
    "outputId": "38abf048-0361-4e18-af11-8972fd0986f2"
   },
   "outputs": [
    {
     "data": {
      "text/plain": [
       "count    243.000000\n",
       "mean       2.296296\n",
       "std        0.954906\n",
       "min        1.000000\n",
       "25%        1.000000\n",
       "50%        2.000000\n",
       "75%        3.000000\n",
       "max        5.000000\n",
       "Name: bedrooms, dtype: float64"
      ]
     },
     "execution_count": 14,
     "metadata": {
      "tags": []
     },
     "output_type": "execute_result"
    }
   ],
   "source": [
    "#Bedroom central tendency/ variability measures\n",
    "train.bedrooms.describe()"
   ]
  },
  {
   "cell_type": "markdown",
   "metadata": {
    "id": "-E5WVK0Jtbam"
   },
   "source": [
    "The Bedroom variable which has its distribution ranked from 1 to 5, can be classified as an ordinal variable. In a sense, this is similar to the categorical case. However, the data is not completely categorical as there is ranking to the data. In this case, we should use the median to grasp the central tendency for further statistical analysis.Also, we could tell the number of rooms that was more frequent in the dataset which 3 which is the 75% the median"
   ]
  },
  {
   "cell_type": "code",
   "execution_count": 15,
   "metadata": {
    "colab": {
     "base_uri": "https://localhost:8080/"
    },
    "id": "Tv6K2K9ntaE_",
    "outputId": "6ab2e3e6-6f2b-492f-d64e-464824db62c6"
   },
   "outputs": [
    {
     "data": {
      "text/plain": [
       "count    243.000000\n",
       "mean       2.259259\n",
       "std        0.972062\n",
       "min        1.000000\n",
       "25%        1.000000\n",
       "50%        2.000000\n",
       "75%        3.000000\n",
       "max        5.000000\n",
       "Name: bathrooms, dtype: float64"
      ]
     },
     "execution_count": 15,
     "metadata": {
      "tags": []
     },
     "output_type": "execute_result"
    }
   ],
   "source": [
    "#Bathrooms central tendency/ variability measures\n",
    "train.bathrooms.describe()"
   ]
  },
  {
   "cell_type": "markdown",
   "metadata": {
    "id": "T93sUlvQ2gcK"
   },
   "source": [
    "The Bathroom variable is also similar to the bedroom  which has its distribution ranked from 1 to 5, can be classified as an ordinal variable. In a sense, this is similar to the categorical case. However, the data is not completely categorical as there is ranking to the data. In this case, we should use the median to grasp the central tendency for further statistical analysis.Also, in the dataset which  3  which is the 75% the median. moreover, 2 bathroom also have a good number of frequency. "
   ]
  },
  {
   "cell_type": "code",
   "execution_count": 16,
   "metadata": {
    "colab": {
     "base_uri": "https://localhost:8080/"
    },
    "id": "Xgg0RDSTPrBw",
    "outputId": "424a3ab1-0124-4880-fe60-41f55f955cec"
   },
   "outputs": [
    {
     "data": {
      "text/plain": [
       "count    243.000000\n",
       "mean       2.641975\n",
       "std        1.205792\n",
       "min        1.000000\n",
       "25%        2.000000\n",
       "50%        3.000000\n",
       "75%        3.500000\n",
       "max        6.000000\n",
       "Name: toilets, dtype: float64"
      ]
     },
     "execution_count": 16,
     "metadata": {
      "tags": []
     },
     "output_type": "execute_result"
    }
   ],
   "source": [
    "#Toilet central tendency/ variability measures\n",
    "train.toilets.describe()"
   ]
  },
  {
   "cell_type": "markdown",
   "metadata": {
    "id": "-BgeLHRuPylO"
   },
   "source": [
    "The Toilet variable is also similar to the bedroom and bathroom which has its distribution ranked from 1 to 6, can be classified as an ordinal variable. In a sense, this is similar to the categorical case. However, the data is not completely categorical as there is ranking to the data. In this case, we should use the median to grasp the central tendency for further statistical analysis. Also, we could tell the number of rooms that was more frequent in the dataset which  3  which is the 75% the median "
   ]
  },
  {
   "cell_type": "code",
   "execution_count": 17,
   "metadata": {
    "colab": {
     "base_uri": "https://localhost:8080/"
    },
    "id": "AnzOHrz-QsyS",
    "outputId": "21ceb2c3-0e12-4d65-955b-cf3959bd4220"
   },
   "outputs": [
    {
     "data": {
      "text/plain": [
       "count    243.000000\n",
       "mean       2.724280\n",
       "std        1.983951\n",
       "min        0.000000\n",
       "25%        1.000000\n",
       "50%        2.000000\n",
       "75%        3.000000\n",
       "max        9.000000\n",
       "Name: parking, dtype: float64"
      ]
     },
     "execution_count": 17,
     "metadata": {
      "tags": []
     },
     "output_type": "execute_result"
    }
   ],
   "source": [
    "#parking central tendency/ variability measures\n",
    "train.parking.describe()"
   ]
  },
  {
   "cell_type": "markdown",
   "metadata": {
    "id": "kMWhzKm2Q1pl"
   },
   "source": [
    "The Parking variable is also similar to the bedroom, bathroom and toilet  which has its distribution ranked from 0 to 9, can be classified as an ordinal variable. In a sense, this is similar to the categorical case. However, the data is not completely categorical as there is ranking to the data. In this case, we should use the median to grasp the central tendency for further statistical analysis. Also, e could tell the number of rooms that was more frequent in the dataset is 2  which is the 50% the mean but since we are using the median due to the nature of the variable"
   ]
  },
  {
   "cell_type": "code",
   "execution_count": 18,
   "metadata": {
    "colab": {
     "base_uri": "https://localhost:8080/"
    },
    "id": "JQdyXYc6RtIN",
    "outputId": "4e6f6a42-4df8-4fee-8625-4aa65c063b8f"
   },
   "outputs": [
    {
     "data": {
      "text/plain": [
       "count    2.430000e+02\n",
       "mean     1.126352e+06\n",
       "std      6.672897e+05\n",
       "min      3.000000e+05\n",
       "25%      6.000000e+05\n",
       "50%      1.000000e+06\n",
       "75%      1.500000e+06\n",
       "max      3.000000e+06\n",
       "Name: price, dtype: float64"
      ]
     },
     "execution_count": 18,
     "metadata": {
      "tags": []
     },
     "output_type": "execute_result"
    }
   ],
   "source": [
    "#price central tendency/ variability measures\n",
    "train.price.describe()"
   ]
  },
  {
   "cell_type": "markdown",
   "metadata": {
    "id": "Iist6RjLRyYP"
   },
   "source": [
    "The price variable which is our dependent variable which range from 3m to 3b has its distrubution skwed to the right or a positively skewed distribution, can be classified as a continous skwed variable. In our case, the mean overestimates the central tendency of the data, because the values are distorted by the large number of prices on the right side of the distribution. In this case, I would use the median the represent the central tendency.\n",
    "\n",
    "Finally, we could tell from the above information that bedrooms,bathroom and toilet have a similar relationship to price. An increase in this 3 will affect price. It is also worthy to note that there exist outliers in the dataset to this variables. There are other things that could affect price such as the description,spec_description, location and other description. exploring this variable will help us in the modeling our model perform better.\n",
    "\n",
    "Our price variable is skwed, which give thought for data transformation."
   ]
  },
  {
   "cell_type": "markdown",
   "metadata": {
    "id": "8AsSpcATU7ME"
   },
   "source": [
    "#### **Stage 3**\n",
    "\n",
    "**Step 1**\n",
    "\n",
    "Try to and out, if there are some linear relationships between variables:\n",
    "* Pick up only those variable, which are suitable. Remove outliers if required.\n",
    "* Compute correlation matrix. It would be nice if you can express it visually.\n",
    "* Write a small report."
   ]
  },
  {
   "cell_type": "code",
   "execution_count": 19,
   "metadata": {
    "colab": {
     "base_uri": "https://localhost:8080/",
     "height": 307
    },
    "id": "5S2yvtNAUxVf",
    "outputId": "aa164c69-14d6-4743-8c10-2d6b95f94593"
   },
   "outputs": [
    {
     "data": {
      "text/plain": [
       "<matplotlib.axes._subplots.AxesSubplot at 0x7f2c73f73710>"
      ]
     },
     "execution_count": 19,
     "metadata": {
      "tags": []
     },
     "output_type": "execute_result"
    },
    {
     "data": {
      "image/png": "[encoded data removed]",
      "text/plain": [
       "<Figure size 432x288 with 1 Axes>"
      ]
     },
     "metadata": {
      "needs_background": "light",
      "tags": []
     },
     "output_type": "display_data"
    }
   ],
   "source": [
    "#checking location to price outliers \n",
    "sns.boxplot('location', 'price', data=train)"
   ]
  },
  {
   "cell_type": "code",
   "execution_count": 20,
   "metadata": {
    "colab": {
     "base_uri": "https://localhost:8080/",
     "height": 173
    },
    "id": "mDSt8yr_VyIj",
    "outputId": "2dd9ddaf-8294-4a61-9a37-faa6dad6ff83"
   },
   "outputs": [
    {
     "data": {
      "text/html": [
       "<div>\n",
       "<style scoped>\n",
       "    .dataframe tbody tr th:only-of-type {\n",
       "        vertical-align: middle;\n",
       "    }\n",
       "\n",
       "    .dataframe tbody tr th {\n",
       "        vertical-align: top;\n",
       "    }\n",
       "\n",
       "    .dataframe thead th {\n",
       "        text-align: right;\n",
       "    }\n",
       "</style>\n",
       "<table border=\"1\" class=\"dataframe\">\n",
       "  <thead>\n",
       "    <tr style=\"text-align: right;\">\n",
       "      <th></th>\n",
       "      <th>id</th>\n",
       "      <th>bedrooms</th>\n",
       "      <th>bathrooms</th>\n",
       "      <th>toilets</th>\n",
       "      <th>parking</th>\n",
       "      <th>description</th>\n",
       "      <th>other_description</th>\n",
       "      <th>spec_location</th>\n",
       "      <th>price</th>\n",
       "    </tr>\n",
       "    <tr>\n",
       "      <th>location</th>\n",
       "      <th></th>\n",
       "      <th></th>\n",
       "      <th></th>\n",
       "      <th></th>\n",
       "      <th></th>\n",
       "      <th></th>\n",
       "      <th></th>\n",
       "      <th></th>\n",
       "      <th></th>\n",
       "    </tr>\n",
       "  </thead>\n",
       "  <tbody>\n",
       "    <tr>\n",
       "      <th>gbagada</th>\n",
       "      <td>85193</td>\n",
       "      <td>2</td>\n",
       "      <td>2</td>\n",
       "      <td>3</td>\n",
       "      <td>2</td>\n",
       "      <td>2 bedroom flat for rent</td>\n",
       "      <td>Relatively New 2bedroom Flat Apartment</td>\n",
       "      <td>Atunrase Estate, Gbagada, Lagos</td>\n",
       "      <td>1100000</td>\n",
       "    </tr>\n",
       "    <tr>\n",
       "      <th>surulere</th>\n",
       "      <td>9026</td>\n",
       "      <td>2</td>\n",
       "      <td>2</td>\n",
       "      <td>3</td>\n",
       "      <td>5</td>\n",
       "      <td>2 bedroom flat for rent</td>\n",
       "      <td>2 Bedroom Flat</td>\n",
       "      <td>Off Adekunle Kuye Street., Kilo, Surulere, Lagos</td>\n",
       "      <td>1000000</td>\n",
       "    </tr>\n",
       "    <tr>\n",
       "      <th>yaba</th>\n",
       "      <td>83465</td>\n",
       "      <td>2</td>\n",
       "      <td>2</td>\n",
       "      <td>2</td>\n",
       "      <td>6</td>\n",
       "      <td>2 bedroom flat for rent</td>\n",
       "      <td>Lovely 2bed Apartment</td>\n",
       "      <td>Off At Finbarrs Road Akoka, Akoka, Yaba, Lagos</td>\n",
       "      <td>700000</td>\n",
       "    </tr>\n",
       "  </tbody>\n",
       "</table>\n",
       "</div>"
      ],
      "text/plain": [
       "             id  ...    price\n",
       "location         ...         \n",
       "gbagada   85193  ...  1100000\n",
       "surulere   9026  ...  1000000\n",
       "yaba      83465  ...   700000\n",
       "\n",
       "[3 rows x 9 columns]"
      ]
     },
     "execution_count": 20,
     "metadata": {
      "tags": []
     },
     "output_type": "execute_result"
    }
   ],
   "source": [
    "loc = train.groupby('location')\n",
    "loc.first()"
   ]
  },
  {
   "cell_type": "code",
   "execution_count": 21,
   "metadata": {
    "colab": {
     "base_uri": "https://localhost:8080/",
     "height": 173
    },
    "id": "tWTTy1ahaIYx",
    "outputId": "8a0f55d1-8ab9-4cfc-b14a-f52b583ad262"
   },
   "outputs": [
    {
     "data": {
      "text/html": [
       "<div>\n",
       "<style scoped>\n",
       "    .dataframe tbody tr th:only-of-type {\n",
       "        vertical-align: middle;\n",
       "    }\n",
       "\n",
       "    .dataframe tbody tr th {\n",
       "        vertical-align: top;\n",
       "    }\n",
       "\n",
       "    .dataframe thead th {\n",
       "        text-align: right;\n",
       "    }\n",
       "</style>\n",
       "<table border=\"1\" class=\"dataframe\">\n",
       "  <thead>\n",
       "    <tr style=\"text-align: right;\">\n",
       "      <th></th>\n",
       "      <th>count</th>\n",
       "      <th>mean</th>\n",
       "      <th>std</th>\n",
       "      <th>min</th>\n",
       "      <th>25%</th>\n",
       "      <th>50%</th>\n",
       "      <th>75%</th>\n",
       "      <th>85%</th>\n",
       "      <th>90%</th>\n",
       "      <th>max</th>\n",
       "    </tr>\n",
       "    <tr>\n",
       "      <th>location</th>\n",
       "      <th></th>\n",
       "      <th></th>\n",
       "      <th></th>\n",
       "      <th></th>\n",
       "      <th></th>\n",
       "      <th></th>\n",
       "      <th></th>\n",
       "      <th></th>\n",
       "      <th></th>\n",
       "      <th></th>\n",
       "    </tr>\n",
       "  </thead>\n",
       "  <tbody>\n",
       "    <tr>\n",
       "      <th>gbagada</th>\n",
       "      <td>95.0</td>\n",
       "      <td>1.282458e+06</td>\n",
       "      <td>643419.127583</td>\n",
       "      <td>300000.0</td>\n",
       "      <td>900000.0</td>\n",
       "      <td>1200000.0</td>\n",
       "      <td>1500000.0</td>\n",
       "      <td>1890000.0</td>\n",
       "      <td>2500000.0</td>\n",
       "      <td>3000000.0</td>\n",
       "    </tr>\n",
       "    <tr>\n",
       "      <th>surulere</th>\n",
       "      <td>68.0</td>\n",
       "      <td>1.164265e+06</td>\n",
       "      <td>708393.844787</td>\n",
       "      <td>300000.0</td>\n",
       "      <td>587500.0</td>\n",
       "      <td>1000000.0</td>\n",
       "      <td>1500000.0</td>\n",
       "      <td>1990000.0</td>\n",
       "      <td>2290000.0</td>\n",
       "      <td>3000000.0</td>\n",
       "    </tr>\n",
       "    <tr>\n",
       "      <th>yaba</th>\n",
       "      <td>80.0</td>\n",
       "      <td>9.087500e+05</td>\n",
       "      <td>606075.516454</td>\n",
       "      <td>300000.0</td>\n",
       "      <td>500000.0</td>\n",
       "      <td>675000.0</td>\n",
       "      <td>1050000.0</td>\n",
       "      <td>1615000.0</td>\n",
       "      <td>2000000.0</td>\n",
       "      <td>2600000.0</td>\n",
       "    </tr>\n",
       "  </tbody>\n",
       "</table>\n",
       "</div>"
      ],
      "text/plain": [
       "          count          mean            std  ...        85%        90%        max\n",
       "location                                      ...                                 \n",
       "gbagada    95.0  1.282458e+06  643419.127583  ...  1890000.0  2500000.0  3000000.0\n",
       "surulere   68.0  1.164265e+06  708393.844787  ...  1990000.0  2290000.0  3000000.0\n",
       "yaba       80.0  9.087500e+05  606075.516454  ...  1615000.0  2000000.0  2600000.0\n",
       "\n",
       "[3 rows x 10 columns]"
      ]
     },
     "execution_count": 21,
     "metadata": {
      "tags": []
     },
     "output_type": "execute_result"
    }
   ],
   "source": [
    "# percentile list \n",
    "perc =[.25, .50, .75, .85, .90]\n",
    "loc.price.describe(percentiles = perc)"
   ]
  },
  {
   "cell_type": "code",
   "execution_count": 22,
   "metadata": {
    "id": "Y9nW9gB1biD1"
   },
   "outputs": [],
   "source": [
    "#reucing the price above 1615000..any figure above this is an outlier\n",
    "train['price']  = np.where(((train['location']=='yaba') & (train['price']>1615000)), 1615000, train['price'])\n",
    "\n",
    "#reducing outliers in Surulere from 2500000\n",
    "train['price']  = np.where(((train['location']=='surulere') & (train['price']>2500000)), 2500000, train['price'])\n",
    "\n",
    "#reducing outliers in gbagada from 2290000\n",
    "train['price']  = np.where(((train['location']=='gbagada') & (train['price']>2290000)), 2290000, train['price'])\n"
   ]
  },
  {
   "cell_type": "code",
   "execution_count": 23,
   "metadata": {
    "colab": {
     "base_uri": "https://localhost:8080/",
     "height": 307
    },
    "id": "1BqC6Dy7eC5_",
    "outputId": "cf346cec-a1ae-46f7-b706-61ca21508bb9"
   },
   "outputs": [
    {
     "data": {
      "text/plain": [
       "<matplotlib.axes._subplots.AxesSubplot at 0x7f2c72686390>"
      ]
     },
     "execution_count": 23,
     "metadata": {
      "tags": []
     },
     "output_type": "execute_result"
    },
    {
     "data": {
      "image/png": "[encoded data removed]",
      "text/plain": [
       "<Figure size 432x288 with 1 Axes>"
      ]
     },
     "metadata": {
      "needs_background": "light",
      "tags": []
     },
     "output_type": "display_data"
    }
   ],
   "source": [
    "#checking location to price outliers \n",
    "sns.boxplot('location', 'price', data=train)"
   ]
  },
  {
   "cell_type": "code",
   "execution_count": 24,
   "metadata": {
    "colab": {
     "base_uri": "https://localhost:8080/",
     "height": 166
    },
    "id": "Jy6M1xCVeFSG",
    "outputId": "09ec405a-ee0d-40be-eb80-777123b83d38"
   },
   "outputs": [
    {
     "data": {
      "text/html": [
       "<style  type=\"text/css\" >\n",
       "#T_b775d39a_4b0e_11eb_b3a4_0242ac1c0002row0_col0,#T_b775d39a_4b0e_11eb_b3a4_0242ac1c0002row1_col1,#T_b775d39a_4b0e_11eb_b3a4_0242ac1c0002row2_col2,#T_b775d39a_4b0e_11eb_b3a4_0242ac1c0002row3_col3,#T_b775d39a_4b0e_11eb_b3a4_0242ac1c0002row4_col4,#T_b775d39a_4b0e_11eb_b3a4_0242ac1c0002row5_col5{\n",
       "            background-color:  #b40426;\n",
       "            color:  #f1f1f1;\n",
       "        }#T_b775d39a_4b0e_11eb_b3a4_0242ac1c0002row0_col1,#T_b775d39a_4b0e_11eb_b3a4_0242ac1c0002row0_col2,#T_b775d39a_4b0e_11eb_b3a4_0242ac1c0002row0_col3,#T_b775d39a_4b0e_11eb_b3a4_0242ac1c0002row0_col4,#T_b775d39a_4b0e_11eb_b3a4_0242ac1c0002row0_col5,#T_b775d39a_4b0e_11eb_b3a4_0242ac1c0002row4_col0{\n",
       "            background-color:  #3b4cc0;\n",
       "            color:  #f1f1f1;\n",
       "        }#T_b775d39a_4b0e_11eb_b3a4_0242ac1c0002row1_col0{\n",
       "            background-color:  #4961d2;\n",
       "            color:  #f1f1f1;\n",
       "        }#T_b775d39a_4b0e_11eb_b3a4_0242ac1c0002row1_col2{\n",
       "            background-color:  #eb7d62;\n",
       "            color:  #000000;\n",
       "        }#T_b775d39a_4b0e_11eb_b3a4_0242ac1c0002row1_col3,#T_b775d39a_4b0e_11eb_b3a4_0242ac1c0002row3_col1{\n",
       "            background-color:  #f08a6c;\n",
       "            color:  #000000;\n",
       "        }#T_b775d39a_4b0e_11eb_b3a4_0242ac1c0002row1_col4{\n",
       "            background-color:  #7da0f9;\n",
       "            color:  #000000;\n",
       "        }#T_b775d39a_4b0e_11eb_b3a4_0242ac1c0002row1_col5,#T_b775d39a_4b0e_11eb_b3a4_0242ac1c0002row2_col5{\n",
       "            background-color:  #f7a889;\n",
       "            color:  #000000;\n",
       "        }#T_b775d39a_4b0e_11eb_b3a4_0242ac1c0002row2_col0{\n",
       "            background-color:  #465ecf;\n",
       "            color:  #f1f1f1;\n",
       "        }#T_b775d39a_4b0e_11eb_b3a4_0242ac1c0002row2_col1{\n",
       "            background-color:  #ec7f63;\n",
       "            color:  #000000;\n",
       "        }#T_b775d39a_4b0e_11eb_b3a4_0242ac1c0002row2_col3,#T_b775d39a_4b0e_11eb_b3a4_0242ac1c0002row3_col2{\n",
       "            background-color:  #d75445;\n",
       "            color:  #000000;\n",
       "        }#T_b775d39a_4b0e_11eb_b3a4_0242ac1c0002row2_col4{\n",
       "            background-color:  #92b4fe;\n",
       "            color:  #000000;\n",
       "        }#T_b775d39a_4b0e_11eb_b3a4_0242ac1c0002row3_col0{\n",
       "            background-color:  #4a63d3;\n",
       "            color:  #f1f1f1;\n",
       "        }#T_b775d39a_4b0e_11eb_b3a4_0242ac1c0002row3_col4{\n",
       "            background-color:  #93b5fe;\n",
       "            color:  #000000;\n",
       "        }#T_b775d39a_4b0e_11eb_b3a4_0242ac1c0002row3_col5{\n",
       "            background-color:  #ef886b;\n",
       "            color:  #000000;\n",
       "        }#T_b775d39a_4b0e_11eb_b3a4_0242ac1c0002row4_col1{\n",
       "            background-color:  #6f92f3;\n",
       "            color:  #000000;\n",
       "        }#T_b775d39a_4b0e_11eb_b3a4_0242ac1c0002row4_col2{\n",
       "            background-color:  #85a8fc;\n",
       "            color:  #000000;\n",
       "        }#T_b775d39a_4b0e_11eb_b3a4_0242ac1c0002row4_col3{\n",
       "            background-color:  #84a7fc;\n",
       "            color:  #000000;\n",
       "        }#T_b775d39a_4b0e_11eb_b3a4_0242ac1c0002row4_col5{\n",
       "            background-color:  #779af7;\n",
       "            color:  #000000;\n",
       "        }#T_b775d39a_4b0e_11eb_b3a4_0242ac1c0002row5_col0{\n",
       "            background-color:  #4f69d9;\n",
       "            color:  #000000;\n",
       "        }#T_b775d39a_4b0e_11eb_b3a4_0242ac1c0002row5_col1{\n",
       "            background-color:  #f7a688;\n",
       "            color:  #000000;\n",
       "        }#T_b775d39a_4b0e_11eb_b3a4_0242ac1c0002row5_col2{\n",
       "            background-color:  #f6a586;\n",
       "            color:  #000000;\n",
       "        }#T_b775d39a_4b0e_11eb_b3a4_0242ac1c0002row5_col3{\n",
       "            background-color:  #ee8669;\n",
       "            color:  #000000;\n",
       "        }#T_b775d39a_4b0e_11eb_b3a4_0242ac1c0002row5_col4{\n",
       "            background-color:  #8badfd;\n",
       "            color:  #000000;\n",
       "        }</style><table id=\"T_b775d39a_4b0e_11eb_b3a4_0242ac1c0002\" ><thead>    <tr>        <th class=\"blank level0\" ></th>        <th class=\"col_heading level0 col0\" >id</th>        <th class=\"col_heading level0 col1\" >bedrooms</th>        <th class=\"col_heading level0 col2\" >bathrooms</th>        <th class=\"col_heading level0 col3\" >toilets</th>        <th class=\"col_heading level0 col4\" >parking</th>        <th class=\"col_heading level0 col5\" >price</th>    </tr></thead><tbody>\n",
       "                <tr>\n",
       "                        <th id=\"T_b775d39a_4b0e_11eb_b3a4_0242ac1c0002level0_row0\" class=\"row_heading level0 row0\" >id</th>\n",
       "                        <td id=\"T_b775d39a_4b0e_11eb_b3a4_0242ac1c0002row0_col0\" class=\"data row0 col0\" >1.000000</td>\n",
       "                        <td id=\"T_b775d39a_4b0e_11eb_b3a4_0242ac1c0002row0_col1\" class=\"data row0 col1\" >0.074388</td>\n",
       "                        <td id=\"T_b775d39a_4b0e_11eb_b3a4_0242ac1c0002row0_col2\" class=\"data row0 col2\" >0.066690</td>\n",
       "                        <td id=\"T_b775d39a_4b0e_11eb_b3a4_0242ac1c0002row0_col3\" class=\"data row0 col3\" >0.079033</td>\n",
       "                        <td id=\"T_b775d39a_4b0e_11eb_b3a4_0242ac1c0002row0_col4\" class=\"data row0 col4\" >0.026327</td>\n",
       "                        <td id=\"T_b775d39a_4b0e_11eb_b3a4_0242ac1c0002row0_col5\" class=\"data row0 col5\" >0.092525</td>\n",
       "            </tr>\n",
       "            <tr>\n",
       "                        <th id=\"T_b775d39a_4b0e_11eb_b3a4_0242ac1c0002level0_row1\" class=\"row_heading level0 row1\" >bedrooms</th>\n",
       "                        <td id=\"T_b775d39a_4b0e_11eb_b3a4_0242ac1c0002row1_col0\" class=\"data row1 col0\" >0.074388</td>\n",
       "                        <td id=\"T_b775d39a_4b0e_11eb_b3a4_0242ac1c0002row1_col1\" class=\"data row1 col1\" >1.000000</td>\n",
       "                        <td id=\"T_b775d39a_4b0e_11eb_b3a4_0242ac1c0002row1_col2\" class=\"data row1 col2\" >0.825057</td>\n",
       "                        <td id=\"T_b775d39a_4b0e_11eb_b3a4_0242ac1c0002row1_col3\" class=\"data row1 col3\" >0.803098</td>\n",
       "                        <td id=\"T_b775d39a_4b0e_11eb_b3a4_0242ac1c0002row1_col4\" class=\"data row1 col4\" >0.226520</td>\n",
       "                        <td id=\"T_b775d39a_4b0e_11eb_b3a4_0242ac1c0002row1_col5\" class=\"data row1 col5\" >0.738759</td>\n",
       "            </tr>\n",
       "            <tr>\n",
       "                        <th id=\"T_b775d39a_4b0e_11eb_b3a4_0242ac1c0002level0_row2\" class=\"row_heading level0 row2\" >bathrooms</th>\n",
       "                        <td id=\"T_b775d39a_4b0e_11eb_b3a4_0242ac1c0002row2_col0\" class=\"data row2 col0\" >0.066690</td>\n",
       "                        <td id=\"T_b775d39a_4b0e_11eb_b3a4_0242ac1c0002row2_col1\" class=\"data row2 col1\" >0.825057</td>\n",
       "                        <td id=\"T_b775d39a_4b0e_11eb_b3a4_0242ac1c0002row2_col2\" class=\"data row2 col2\" >1.000000</td>\n",
       "                        <td id=\"T_b775d39a_4b0e_11eb_b3a4_0242ac1c0002row2_col3\" class=\"data row2 col3\" >0.904482</td>\n",
       "                        <td id=\"T_b775d39a_4b0e_11eb_b3a4_0242ac1c0002row2_col4\" class=\"data row2 col4\" >0.281486</td>\n",
       "                        <td id=\"T_b775d39a_4b0e_11eb_b3a4_0242ac1c0002row2_col5\" class=\"data row2 col5\" >0.740548</td>\n",
       "            </tr>\n",
       "            <tr>\n",
       "                        <th id=\"T_b775d39a_4b0e_11eb_b3a4_0242ac1c0002level0_row3\" class=\"row_heading level0 row3\" >toilets</th>\n",
       "                        <td id=\"T_b775d39a_4b0e_11eb_b3a4_0242ac1c0002row3_col0\" class=\"data row3 col0\" >0.079033</td>\n",
       "                        <td id=\"T_b775d39a_4b0e_11eb_b3a4_0242ac1c0002row3_col1\" class=\"data row3 col1\" >0.803098</td>\n",
       "                        <td id=\"T_b775d39a_4b0e_11eb_b3a4_0242ac1c0002row3_col2\" class=\"data row3 col2\" >0.904482</td>\n",
       "                        <td id=\"T_b775d39a_4b0e_11eb_b3a4_0242ac1c0002row3_col3\" class=\"data row3 col3\" >1.000000</td>\n",
       "                        <td id=\"T_b775d39a_4b0e_11eb_b3a4_0242ac1c0002row3_col4\" class=\"data row3 col4\" >0.286762</td>\n",
       "                        <td id=\"T_b775d39a_4b0e_11eb_b3a4_0242ac1c0002row3_col5\" class=\"data row3 col5\" >0.809508</td>\n",
       "            </tr>\n",
       "            <tr>\n",
       "                        <th id=\"T_b775d39a_4b0e_11eb_b3a4_0242ac1c0002level0_row4\" class=\"row_heading level0 row4\" >parking</th>\n",
       "                        <td id=\"T_b775d39a_4b0e_11eb_b3a4_0242ac1c0002row4_col0\" class=\"data row4 col0\" >0.026327</td>\n",
       "                        <td id=\"T_b775d39a_4b0e_11eb_b3a4_0242ac1c0002row4_col1\" class=\"data row4 col1\" >0.226520</td>\n",
       "                        <td id=\"T_b775d39a_4b0e_11eb_b3a4_0242ac1c0002row4_col2\" class=\"data row4 col2\" >0.281486</td>\n",
       "                        <td id=\"T_b775d39a_4b0e_11eb_b3a4_0242ac1c0002row4_col3\" class=\"data row4 col3\" >0.286762</td>\n",
       "                        <td id=\"T_b775d39a_4b0e_11eb_b3a4_0242ac1c0002row4_col4\" class=\"data row4 col4\" >1.000000</td>\n",
       "                        <td id=\"T_b775d39a_4b0e_11eb_b3a4_0242ac1c0002row4_col5\" class=\"data row4 col5\" >0.265934</td>\n",
       "            </tr>\n",
       "            <tr>\n",
       "                        <th id=\"T_b775d39a_4b0e_11eb_b3a4_0242ac1c0002level0_row5\" class=\"row_heading level0 row5\" >price</th>\n",
       "                        <td id=\"T_b775d39a_4b0e_11eb_b3a4_0242ac1c0002row5_col0\" class=\"data row5 col0\" >0.092525</td>\n",
       "                        <td id=\"T_b775d39a_4b0e_11eb_b3a4_0242ac1c0002row5_col1\" class=\"data row5 col1\" >0.738759</td>\n",
       "                        <td id=\"T_b775d39a_4b0e_11eb_b3a4_0242ac1c0002row5_col2\" class=\"data row5 col2\" >0.740548</td>\n",
       "                        <td id=\"T_b775d39a_4b0e_11eb_b3a4_0242ac1c0002row5_col3\" class=\"data row5 col3\" >0.809508</td>\n",
       "                        <td id=\"T_b775d39a_4b0e_11eb_b3a4_0242ac1c0002row5_col4\" class=\"data row5 col4\" >0.265934</td>\n",
       "                        <td id=\"T_b775d39a_4b0e_11eb_b3a4_0242ac1c0002row5_col5\" class=\"data row5 col5\" >1.000000</td>\n",
       "            </tr>\n",
       "    </tbody></table>"
      ],
      "text/plain": [
       "<pandas.io.formats.style.Styler at 0x7f2c7406f4e0>"
      ]
     },
     "execution_count": 24,
     "metadata": {
      "tags": []
     },
     "output_type": "execute_result"
    }
   ],
   "source": [
    "train.corr().style.background_gradient(cmap='coolwarm')"
   ]
  },
  {
   "cell_type": "markdown",
   "metadata": {
    "id": "y4yYzG2C-z1K"
   },
   "source": [
    "**Report**\n",
    "\n",
    "One reason we choose to use the location to remove outliers is because each location in Lagos has a range of price attached to it based on domain knowledge. Thus, some location have a surge in price could be as a result of the following:\n",
    "* Data Entry errors\n",
    "* sampling errors etc\n",
    "\n",
    "We advise the management to give more attention to the Data entry department so as to avoid this surge in possible feature.\n",
    "\n",
    "One way to quantify relationship is to use the Pearson correlation coefficient, which is a measure of the linear association between two variables. It has a value between -1 and 1 where:\n",
    "\n",
    "* -1 indicates a perfectly negative linear correlation between two variables\n",
    "* 0 indicates no linear correlation between two variables\n",
    "* 1 indicates a perfectly positive linear correlation between two variables\n",
    "\n",
    "The further away the correlation coefficient is from zero, the stronger the relationship between the two variables\n",
    "\n",
    "The correlation between Bedrooms,Bathrooms and toilets is 0.74,0.74 and 0.81 each indicates that they're strongly positively correlated to the dependent variable price. More bedrooms, bathrooms and toilets is associated with high price. There is very little association between parking and price as it shows 0.27 correlation cooficient. However, it it positively correlated with price but has a weak correlation. \n",
    "\n",
    "Also, The above matrix shows correlations among the features such that darker shades of red implying high positive correlation and darker shades of blue implying high negative correlations. This is clearly inducing multicollinearity into the model.\n",
    "\n",
    "To counter such issues, we can use regularization techniques which allow us to lower this variance of the model at the cost of adding some bias into it, such that the total error is reduced. Lower variance implies that the problem of overfitting is tackled automatically, as the model generalizes well to unseen data after regularization."
   ]
  },
  {
   "cell_type": "markdown",
   "metadata": {
    "id": "hyC2dfzKBYRa"
   },
   "source": [
    "#### **Step 2**\n",
    "Pay attention to dependent variable:\n",
    "* From correlation analysis you know which variables have high correlation with your\n",
    "dependent variable.\n",
    "\n",
    "Answer: Bedroom, Bathrooms, Toilets\n",
    "\n",
    "*  Draw the scatter plots dependent variable vs independent variable\n",
    "* Write down your observations"
   ]
  },
  {
   "cell_type": "code",
   "execution_count": 25,
   "metadata": {
    "colab": {
     "base_uri": "https://localhost:8080/",
     "height": 458
    },
    "id": "rx-1CPTR0JcZ",
    "outputId": "159eb5ce-11b6-480e-cf35-5f7fd16e965e"
   },
   "outputs": [
    {
     "data": {
      "text/plain": [
       "<seaborn.axisgrid.JointGrid at 0x7f2c7232aba8>"
      ]
     },
     "execution_count": 25,
     "metadata": {
      "tags": []
     },
     "output_type": "execute_result"
    },
    {
     "data": {
      "image/png": "[encoded data removed]",
      "text/plain": [
       "<Figure size 432x432 with 3 Axes>"
      ]
     },
     "metadata": {
      "needs_background": "light",
      "tags": []
     },
     "output_type": "display_data"
    }
   ],
   "source": [
    "\n",
    "sns.jointplot(x='bedrooms',y='price',data=train,kind='scatter')"
   ]
  },
  {
   "cell_type": "markdown",
   "metadata": {
    "id": "2eLPuqiyFj7e"
   },
   "source": [
    "**Observations**\n",
    "* from the graph distribution we could tell the number of rooms that was more frequent in the dataset which  3  which is the 75% the median. I relation to price, more rooms having 3 also records high price and this might pose as an outlier in our dataset amongst other number with low frequency but having very high price.\n",
    "* Skewness \n",
    "* No missing values\n",
    "* Linear Relationship with price"
   ]
  },
  {
   "cell_type": "code",
   "execution_count": 26,
   "metadata": {
    "colab": {
     "base_uri": "https://localhost:8080/",
     "height": 458
    },
    "id": "dnCSysO20W1R",
    "outputId": "dee202f7-e467-4f82-df85-145a77d648c0"
   },
   "outputs": [
    {
     "data": {
      "text/plain": [
       "<seaborn.axisgrid.JointGrid at 0x7f2c726ed160>"
      ]
     },
     "execution_count": 26,
     "metadata": {
      "tags": []
     },
     "output_type": "execute_result"
    },
    {
     "data": {
      "image/png": "[encoded data removed]",
      "text/plain": [
       "<Figure size 432x432 with 3 Axes>"
      ]
     },
     "metadata": {
      "needs_background": "light",
      "tags": []
     },
     "output_type": "display_data"
    }
   ],
   "source": [
    "sns.jointplot(x='bathrooms',y='price',data=train,kind='scatter')"
   ]
  },
  {
   "cell_type": "markdown",
   "metadata": {
    "id": "4ks5ffKjGCv_"
   },
   "source": [
    "**Observations**\n",
    "* from the graph distribution we could tell the number of rooms that was more frequent in the dataset which  3  which is the 75% the median. moreover, 2 bathroom also have a good number of frequency. In relation to price from the distribution graph, more rooms having 3 also records high price and this might pose as an outlier in our dataset amongst other number with low frequency but having very high price.\n",
    "* Skewness\n",
    "* No missing values\n",
    "* Linear Relationship with price"
   ]
  },
  {
   "cell_type": "code",
   "execution_count": 27,
   "metadata": {
    "colab": {
     "base_uri": "https://localhost:8080/",
     "height": 458
    },
    "id": "wuE8sjaE0lfP",
    "outputId": "ae2587be-0d7e-4bd1-e3a2-cc567a51c213"
   },
   "outputs": [
    {
     "data": {
      "text/plain": [
       "<seaborn.axisgrid.JointGrid at 0x7f2c720fcd30>"
      ]
     },
     "execution_count": 27,
     "metadata": {
      "tags": []
     },
     "output_type": "execute_result"
    },
    {
     "data": {
      "image/png": "[encoded data removed]",
      "text/plain": [
       "<Figure size 432x432 with 3 Axes>"
      ]
     },
     "metadata": {
      "needs_background": "light",
      "tags": []
     },
     "output_type": "display_data"
    }
   ],
   "source": [
    "sns.jointplot(x='toilets',y='price',data=train,kind='scatter')"
   ]
  },
  {
   "cell_type": "markdown",
   "metadata": {
    "id": "gtUmp-eDGUdd"
   },
   "source": [
    "**Observations**\n",
    "* from the graph distribution we could tell the number of rooms that was more frequent in the dataset which  3  which is the 75% the median. In relation to price from the distribution graph, there was few rooms having 3 that records high price and this might pose as an outlier in our dataset amongst other number with low frequency but having very high price.\n",
    "* Skewness\n",
    "* No missing values\n",
    "* Linear Relationship with price"
   ]
  },
  {
   "cell_type": "code",
   "execution_count": 28,
   "metadata": {
    "colab": {
     "base_uri": "https://localhost:8080/",
     "height": 458
    },
    "id": "FyuNR0YM0owH",
    "outputId": "7351d6a0-83b8-4a29-9286-82b3a00b9709"
   },
   "outputs": [
    {
     "data": {
      "text/plain": [
       "<seaborn.axisgrid.JointGrid at 0x7f2c71fa1668>"
      ]
     },
     "execution_count": 28,
     "metadata": {
      "tags": []
     },
     "output_type": "execute_result"
    },
    {
     "data": {
      "image/png": "[encoded data removed]",
      "text/plain": [
       "<Figure size 432x432 with 3 Axes>"
      ]
     },
     "metadata": {
      "needs_background": "light",
      "tags": []
     },
     "output_type": "display_data"
    }
   ],
   "source": [
    "sns.jointplot(x='parking',y='price',data=train,kind='scatter')"
   ]
  },
  {
   "cell_type": "markdown",
   "metadata": {
    "id": "YycgfiIFHYup"
   },
   "source": [
    "**Observation**\n",
    "* from the graph distribution we could tell the number of rooms that was more frequent in the dataset is 2  which is the 50% the mean but since we are iseing the median due to the nature of the variable. In relation to price from the distribution graph, most house with high parking space will record high price.\n",
    "* Skewness\n",
    "* No missing values\n",
    "* Linear Relationship with price"
   ]
  },
  {
   "cell_type": "markdown",
   "metadata": {
    "id": "-N7fkSM6HkSb"
   },
   "source": [
    "#### **Step 3**\n",
    "Pick up one pair of dependent variable vs independent variable\n",
    "* Construct the linear regression model.\n",
    "* Draw the scatter plot with line\n",
    "* Write down your observations"
   ]
  },
  {
   "cell_type": "markdown",
   "metadata": {
    "id": "XiEzW_38PWyV"
   },
   "source": [
    "**Simple Linear Regression**\n",
    "\n",
    "This is an aproach for predicting a quantative response Y on the basis of a single predictor variable X. it assumes that there is approximatly a linear relationship between X and Y\n",
    "\n",
    "**Model Equation**\n",
    "\n",
    "$$\n",
    "Y = \\beta_0\\ + \\beta_1 X\n",
    "\n",
    "$$\n",
    "        \n",
    "\n",
    "$$\n",
    "\\beta_0 =intercept\\\\\n",
    "\\beta_1 = slope\\\\\n",
    "Both\\ \\beta_0\\ and\\ \\beta_1\\ are\\ known\\ as\\ the\\ model\\ coefficients\\ or\\ parameters\n",
    "$$\n",
    "\n",
    "For the House Price Dataset \n",
    "* X will represent one of our variables (bathrooms,bedrooms, toilet or parking)\n",
    "* Y will represent price"
   ]
  },
  {
   "cell_type": "code",
   "execution_count": 29,
   "metadata": {
    "id": "nimd0oLuegXY"
   },
   "outputs": [],
   "source": [
    "from sklearn.linear_model import LinearRegression"
   ]
  },
  {
   "cell_type": "code",
   "execution_count": 30,
   "metadata": {
    "id": "1bfoyOYsepWp"
   },
   "outputs": [],
   "source": [
    "y = train.price\n",
    "X = train[['bedrooms']]"
   ]
  },
  {
   "cell_type": "code",
   "execution_count": 31,
   "metadata": {
    "id": "v2VWbt9aUxZU"
   },
   "outputs": [],
   "source": [
    "lm = LinearRegression()"
   ]
  },
  {
   "cell_type": "code",
   "execution_count": 32,
   "metadata": {
    "colab": {
     "base_uri": "https://localhost:8080/"
    },
    "id": "eQyGd0AxVTox",
    "outputId": "da881042-f70f-434f-e92a-58320f8d9766"
   },
   "outputs": [
    {
     "data": {
      "text/plain": [
       "LinearRegression(copy_X=True, fit_intercept=True, n_jobs=None, normalize=False)"
      ]
     },
     "execution_count": 32,
     "metadata": {
      "tags": []
     },
     "output_type": "execute_result"
    }
   ],
   "source": [
    "lm.fit(X,y)"
   ]
  },
  {
   "cell_type": "code",
   "execution_count": 33,
   "metadata": {
    "colab": {
     "base_uri": "https://localhost:8080/"
    },
    "id": "DMAYPUexxbe3",
    "outputId": "73a3e915-bd1a-4420-b397-af8404b6e174"
   },
   "outputs": [
    {
     "name": "stdout",
     "output_type": "stream",
     "text": [
      "41111.745179217774 [452801.69519973]\n"
     ]
    }
   ],
   "source": [
    "print(lm.intercept_, lm.coef_)"
   ]
  },
  {
   "cell_type": "code",
   "execution_count": 34,
   "metadata": {
    "colab": {
     "base_uri": "https://localhost:8080/",
     "height": 458
    },
    "id": "bHLSkjqFVXCK",
    "outputId": "b1c23281-8516-48e5-fce1-5fb4374c9d70"
   },
   "outputs": [
    {
     "data": {
      "text/plain": [
       "<seaborn.axisgrid.JointGrid at 0x7f2c6ea5c240>"
      ]
     },
     "execution_count": 34,
     "metadata": {
      "tags": []
     },
     "output_type": "execute_result"
    },
    {
     "data": {
      "image/png": "[encoded data removed]",
      "text/plain": [
       "<Figure size 432x432 with 3 Axes>"
      ]
     },
     "metadata": {
      "needs_background": "light",
      "tags": []
     },
     "output_type": "display_data"
    }
   ],
   "source": [
    "sns.jointplot(x='bedrooms',y='price',data=train,kind='reg')"
   ]
  },
  {
   "cell_type": "markdown",
   "metadata": {
    "id": "A_xsLrHQXEtF"
   },
   "source": [
    "**Observation**\n",
    "* increasing number of bedrooms will increase the price of the house.However, this isn't a tentative statement as some house having 4 bedrooms still had low price this will be as a result of other feature which we will explore such as description, spec_description, location and other_des.\n",
    "* There is a significant relationship between X and Y\n",
    "* Increasing the value of X will increase the value of Y by 452801\n"
   ]
  },
  {
   "cell_type": "markdown",
   "metadata": {
    "id": "GnzyMAOEyN4Z"
   },
   "source": [
    "#### **Step 4**\n",
    "* Try regression with several variables, if possible.\n",
    "* Additional: try other regression algorithms."
   ]
  },
  {
   "cell_type": "code",
   "execution_count": 35,
   "metadata": {
    "id": "-sx9WJsqVpGW"
   },
   "outputs": [],
   "source": [
    "y = train.price\n",
    "X = train[['bedrooms', 'bathrooms', 'toilets', 'parking']]"
   ]
  },
  {
   "cell_type": "code",
   "execution_count": 36,
   "metadata": {
    "colab": {
     "base_uri": "https://localhost:8080/"
    },
    "id": "ujGMCT7FynHM",
    "outputId": "89400c38-6378-40b0-c6cb-58e24d76b8f4"
   },
   "outputs": [
    {
     "data": {
      "text/plain": [
       "LinearRegression(copy_X=True, fit_intercept=True, n_jobs=None, normalize=False)"
      ]
     },
     "execution_count": 36,
     "metadata": {
      "tags": []
     },
     "output_type": "execute_result"
    }
   ],
   "source": [
    "# fit the LinearRegression with x and y data \n",
    "lm.fit(X,y)"
   ]
  },
  {
   "cell_type": "code",
   "execution_count": 37,
   "metadata": {
    "colab": {
     "base_uri": "https://localhost:8080/"
    },
    "id": "UF1Kg6JCyocr",
    "outputId": "26bf4486-1d2d-4f82-874a-042c145ffd82"
   },
   "outputs": [
    {
     "name": "stdout",
     "output_type": "stream",
     "text": [
      "-58754.11828781711 [172280.93630542 -67091.95998041 326618.69882767  11997.38620452]\n"
     ]
    }
   ],
   "source": [
    "print(lm.intercept_, lm.coef_)"
   ]
  },
  {
   "cell_type": "markdown",
   "metadata": {
    "id": "iZhANDyHl1fz"
   },
   "source": [
    "**Regularizing Linear Regression Models**\n",
    "\n",
    "One of the basic assumptions of a multiple linear regression model is that there should be no (or very less) multicollinearity among the feature variables. This essentially means that the feature variables should ideally have no or very less correlation with each other.\n",
    "\n",
    "A high correlation between the two feature variables gives rise to several problems which we could see in the above correlation plot. If we include one of them in the model, adding the other will have little or no impact on improving the model, but will only make the model more complex.\n",
    "\n",
    "To counter such issues, we can use regularization techniques which allow us to lower this variance of the model at the cost of adding some bias into it, such that the total error is reduced. Lower variance implies that the problem of overfitting is tackled automatically, as the model generalizes well to unseen data after regularization. \n",
    "\n",
    "The regularization techniques work by adding penalty factors to the original OLS cost function such that high coefficient values are penalized, taking them closer to zero.\n",
    "\n",
    "The features with significant coefficient values are identified after a regularization procedure and other insignificant features with near-zero coefficient values can be dropped.\n",
    "\n",
    "There are many regularization techniques, of which we discuss the three most commonly used ones viz. Ridge, Lasso and Elastic Net which we will use below"
   ]
  },
  {
   "cell_type": "markdown",
   "metadata": {
    "id": "thrXgJHM0k61"
   },
   "source": [
    "**Ridge Regression**\n",
    "Ridge regression is an extension of linear regression where the loss function is modified to\n",
    "minimize the complexity of the model measured as the sum squared value of the coefficient\n",
    "values (also called the L2-norm)."
   ]
  },
  {
   "cell_type": "code",
   "execution_count": 38,
   "metadata": {
    "colab": {
     "base_uri": "https://localhost:8080/"
    },
    "id": "VsnIHlCmy9kS",
    "outputId": "8e4b9742-e8f9-4ad6-bbcb-c603973f1ffb"
   },
   "outputs": [
    {
     "data": {
      "text/plain": [
       "Ridge(alpha=1.0, copy_X=True, fit_intercept=True, max_iter=None,\n",
       "      normalize=False, random_state=None, solver='auto', tol=0.001)"
      ]
     },
     "execution_count": 38,
     "metadata": {
      "tags": []
     },
     "output_type": "execute_result"
    }
   ],
   "source": [
    "#import Ridge\n",
    "from sklearn.linear_model import Ridge\n",
    "#create Ridge object\n",
    "rig = Ridge()\n",
    "# fit the Ridge  with x and y data \n",
    "rig.fit(X,y)"
   ]
  },
  {
   "cell_type": "markdown",
   "metadata": {
    "id": "cQKz8iWP1IHX"
   },
   "source": [
    "**LASSO Regression**\n",
    "The Least Absolute Shrinkage and Selection Operator (or LASSO for short) is a modification\n",
    "of linear regression, like ridge regression, where the loss function is modified to minimize the\n",
    "complexity of the model measured as the sum absolute value of the coefficient values (also called\n",
    "the L1-norm)"
   ]
  },
  {
   "cell_type": "code",
   "execution_count": 39,
   "metadata": {
    "colab": {
     "base_uri": "https://localhost:8080/"
    },
    "id": "DNYXE7ZS1FhN",
    "outputId": "fe097c03-3679-4d17-ec81-957196d3d6fe"
   },
   "outputs": [
    {
     "data": {
      "text/plain": [
       "Lasso(alpha=1.0, copy_X=True, fit_intercept=True, max_iter=1000,\n",
       "      normalize=False, positive=False, precompute=False, random_state=None,\n",
       "      selection='cyclic', tol=0.0001, warm_start=False)"
      ]
     },
     "execution_count": 39,
     "metadata": {
      "tags": []
     },
     "output_type": "execute_result"
    }
   ],
   "source": [
    "#import Lasso \n",
    "from sklearn.linear_model import Lasso\n",
    "#create Lasso object\n",
    "lass = Lasso()\n",
    "# fit the Lasso with x and y data \n",
    "lass.fit(X, y)"
   ]
  },
  {
   "cell_type": "markdown",
   "metadata": {
    "id": "z-v7hef72Tet"
   },
   "source": [
    "**ElasticNet Regression**\n",
    "ElasticNet is a form of regularization regression that combines the properties of both Ridge\n",
    "Regression and LASSO regression. It seeks to minimize the complexity of the regression model\n",
    "(magnitude and number of regression coefficients) by penalizing the model using both the\n",
    "L2-norm (sum squared coefficient values) and the L1-norm (sum absolute coefficient values)"
   ]
  },
  {
   "cell_type": "code",
   "execution_count": 40,
   "metadata": {
    "colab": {
     "base_uri": "https://localhost:8080/"
    },
    "id": "KaiG_wHk2Nal",
    "outputId": "f07ce70b-acc2-4617-c63d-356f52a15376"
   },
   "outputs": [
    {
     "data": {
      "text/plain": [
       "ElasticNet(alpha=1.0, copy_X=True, fit_intercept=True, l1_ratio=0.5,\n",
       "           max_iter=1000, normalize=False, positive=False, precompute=False,\n",
       "           random_state=None, selection='cyclic', tol=0.0001, warm_start=False)"
      ]
     },
     "execution_count": 40,
     "metadata": {
      "tags": []
     },
     "output_type": "execute_result"
    }
   ],
   "source": [
    "#import the ElasticNet\n",
    "from sklearn.linear_model import ElasticNet\n",
    "#create ElasticNet object\n",
    "ela= ElasticNet()\n",
    "# fit the ElasticNet with x and y data \n",
    "ela.fit(X, y)"
   ]
  },
  {
   "cell_type": "markdown",
   "metadata": {
    "id": "ZW6sp_mr1tQL"
   },
   "source": [
    "**Stochastic Gradient Descent**\n",
    "\n",
    "Stochastic gradient descent is a simple yet very efficient approach to fit linear models. It is particularly useful when the number of samples (and the number of features) is very large. The classes SGDClassifier and SGDRegressor provide functionality to fit linear models for classification and regression using different (convex) loss functions and different penalties."
   ]
  },
  {
   "cell_type": "code",
   "execution_count": 41,
   "metadata": {
    "colab": {
     "base_uri": "https://localhost:8080/"
    },
    "id": "-J0T_KeG1gBR",
    "outputId": "b01e5c0e-54fc-4b54-c387-5210d8bc9f84"
   },
   "outputs": [
    {
     "data": {
      "text/plain": [
       "SGDRegressor(alpha=0.0001, average=False, early_stopping=False, epsilon=0.1,\n",
       "             eta0=0.01, fit_intercept=True, l1_ratio=0.15,\n",
       "             learning_rate='invscaling', loss='squared_loss', max_iter=1000,\n",
       "             n_iter_no_change=5, penalty='l2', power_t=0.25, random_state=None,\n",
       "             shuffle=True, tol=0.001, validation_fraction=0.1, verbose=0,\n",
       "             warm_start=False)"
      ]
     },
     "execution_count": 41,
     "metadata": {
      "tags": []
     },
     "output_type": "execute_result"
    }
   ],
   "source": [
    "#import sgd \n",
    "from sklearn.linear_model import SGDRegressor\n",
    "#create SGD object \n",
    "sgd = SGDRegressor()\n",
    "# fit the SGDRegressor with x and y data \n",
    "sgd.fit(X, y)"
   ]
  },
  {
   "cell_type": "markdown",
   "metadata": {
    "id": "KUzqtr2X3EHd"
   },
   "source": [
    "**Boosting Algorithms of Gradient Booosting**  Boosting is an ensemble technique where new models are added to correct the errors made by existing models. Models are added sequentially until no further improvements can be made. This algprithms converts weak learner to strong learners. It combine the prediction of each weak learner using methods like:\n",
    "* Using average/ weighted average\n",
    "* Considering prediction has higher vote\n",
    "\n",
    "Gradient boosting involves three elements:\n",
    "1. A loss function to be optimized.\n",
    "2. A weak learner to make predictions.\n",
    "3. An additive model to add weak learners to minimize the loss function.\n",
    "\n",
    "**Types of Boosting Algorithms**\n",
    "* AdaBoost (Adaptive Boosting)\n",
    "* Gradient Tree Boosting\n",
    "* XGBoost\n",
    "\n",
    "However, we will use XGBoost for this regression problem.\n",
    "\n",
    "XGBooststands for eXtreme Gradient Boosting which can be use for regression and classification is an ensemble learning method whichis an implementation of gradient\n",
    "boosted decision trees designed for speed and performance.. Ensemble learning offers a systematic solution to combine the predictive power of multiple learners. \n",
    "\n",
    "\n",
    "\n",
    "\n",
    "\n"
   ]
  },
  {
   "cell_type": "code",
   "execution_count": 42,
   "metadata": {
    "colab": {
     "base_uri": "https://localhost:8080/"
    },
    "id": "-yVE-HS32l-8",
    "outputId": "966caebd-4d24-48c1-8643-fc3924f76a37"
   },
   "outputs": [
    {
     "name": "stdout",
     "output_type": "stream",
     "text": [
      "[02:20:27] WARNING: /workspace/src/objective/regression_obj.cu:152: reg:linear is now deprecated in favor of reg:squarederror.\n"
     ]
    },
    {
     "data": {
      "text/plain": [
       "XGBRegressor(base_score=0.5, booster='gbtree', colsample_bylevel=1,\n",
       "             colsample_bynode=1, colsample_bytree=1, gamma=0,\n",
       "             importance_type='gain', learning_rate=0.1, max_delta_step=0,\n",
       "             max_depth=3, min_child_weight=1, missing=None, n_estimators=100,\n",
       "             n_jobs=1, nthread=None, objective='reg:linear', random_state=0,\n",
       "             reg_alpha=0, reg_lambda=1, scale_pos_weight=1, seed=None,\n",
       "             silent=None, subsample=1, verbosity=1)"
      ]
     },
     "execution_count": 42,
     "metadata": {
      "tags": []
     },
     "output_type": "execute_result"
    }
   ],
   "source": [
    "#import the model\n",
    "from xgboost import XGBRegressor\n",
    "#create XGBregression object\n",
    "xgb = XGBRegressor()\n",
    "# fit the XGBregressor with x and y data \n",
    "xgb.fit(X, y)"
   ]
  },
  {
   "cell_type": "markdown",
   "metadata": {
    "id": "cbpWS9ZQ8L5r"
   },
   "source": [
    "**Random Forest** A Random Forest is an ensemble technique capable of performing both regression and classification tasks with the use of multiple decision trees and a technique called Bootstrap and Aggregation, commonly known as bagging. The basic idea behind this is to combine multiple decision trees in determining the final output rather than relying on individual decision trees."
   ]
  },
  {
   "cell_type": "code",
   "execution_count": 43,
   "metadata": {
    "colab": {
     "base_uri": "https://localhost:8080/"
    },
    "id": "mdBhd4ON79xd",
    "outputId": "ac825da9-c537-4e71-b5b7-7571fb60a6da"
   },
   "outputs": [
    {
     "data": {
      "text/plain": [
       "RandomForestRegressor(bootstrap=True, ccp_alpha=0.0, criterion='mse',\n",
       "                      max_depth=None, max_features='auto', max_leaf_nodes=None,\n",
       "                      max_samples=None, min_impurity_decrease=0.0,\n",
       "                      min_impurity_split=None, min_samples_leaf=1,\n",
       "                      min_samples_split=2, min_weight_fraction_leaf=0.0,\n",
       "                      n_estimators=100, n_jobs=None, oob_score=False,\n",
       "                      random_state=None, verbose=0, warm_start=False)"
      ]
     },
     "execution_count": 43,
     "metadata": {
      "tags": []
     },
     "output_type": "execute_result"
    }
   ],
   "source": [
    "# import the regressor \n",
    "from sklearn.ensemble import RandomForestRegressor \n",
    "# create regressor object \n",
    "regr = RandomForestRegressor()  \n",
    "# fit the regressor with x and y data \n",
    "regr.fit(X, y) "
   ]
  },
  {
   "cell_type": "markdown",
   "metadata": {
    "id": "emA0c5Ngyzv_"
   },
   "source": [
    "**Nonlinear Machine Learning Algorithms**"
   ]
  },
  {
   "cell_type": "markdown",
   "metadata": {
    "id": "8v0dwiI0y841"
   },
   "source": [
    "**K-Nearest Neighbors**\n",
    "\n",
    "The k-Nearest Neighbors algorithm (or KNN) locates the k most similar instances in the\n",
    "training dataset for a new data instance. From the k neighbors, a mean or median output\n",
    "variable is taken as the prediction."
   ]
  },
  {
   "cell_type": "code",
   "execution_count": 44,
   "metadata": {
    "colab": {
     "base_uri": "https://localhost:8080/"
    },
    "id": "nknzETVSy8hT",
    "outputId": "8bb18dcc-d29c-4738-ba8c-664882bba66a"
   },
   "outputs": [
    {
     "data": {
      "text/plain": [
       "KNeighborsRegressor(algorithm='auto', leaf_size=30, metric='minkowski',\n",
       "                    metric_params=None, n_jobs=None, n_neighbors=5, p=2,\n",
       "                    weights='uniform')"
      ]
     },
     "execution_count": 44,
     "metadata": {
      "tags": []
     },
     "output_type": "execute_result"
    }
   ],
   "source": [
    "#import the KNN \n",
    "from sklearn.neighbors import KNeighborsRegressor\n",
    "#create KNeighborsRegressor object\n",
    "knn= KNeighborsRegressor()\n",
    "# fit the KNeighborsRegressor with x and y data \n",
    "knn.fit(X, y)"
   ]
  },
  {
   "cell_type": "markdown",
   "metadata": {
    "id": "b4dGct6SzA_P"
   },
   "source": [
    "**Classification and Regression Trees**\n",
    "\n",
    "Decision trees or the Classi\f",
    "cation and Regression Trees (CART as they are known) use the train-\n",
    "ing data to select the best points to split the data in order to minimize a cost metric."
   ]
  },
  {
   "cell_type": "code",
   "execution_count": 46,
   "metadata": {
    "colab": {
     "base_uri": "https://localhost:8080/"
    },
    "id": "mNzcxSeFynIB",
    "outputId": "9456f61d-9a0b-48ba-e38d-7360e5c52ced"
   },
   "outputs": [
    {
     "data": {
      "text/plain": [
       "DecisionTreeRegressor(ccp_alpha=0.0, criterion='mse', max_depth=None,\n",
       "                      max_features=None, max_leaf_nodes=None,\n",
       "                      min_impurity_decrease=0.0, min_impurity_split=None,\n",
       "                      min_samples_leaf=1, min_samples_split=2,\n",
       "                      min_weight_fraction_leaf=0.0, presort='deprecated',\n",
       "                      random_state=None, splitter='best')"
      ]
     },
     "execution_count": 46,
     "metadata": {
      "tags": []
     },
     "output_type": "execute_result"
    }
   ],
   "source": [
    "#import CART\n",
    "from sklearn.tree import DecisionTreeRegressor\n",
    "#create DecisionTreeRegressor object\n",
    "CART = DecisionTreeRegressor()\n",
    "# fit the KNeighborsRegressor with x and y data \n",
    "CART.fit(X, y)"
   ]
  },
  {
   "cell_type": "markdown",
   "metadata": {
    "id": "nHAmZ0G5zKKU"
   },
   "source": [
    "**Support Vector Machines**\n",
    "\n",
    "Support Vector Machines (SVM) were developed for binary classi\f",
    "cation. The technique has\n",
    "been extended for the prediction real-valued problems called Support Vector Regression (SVR)."
   ]
  },
  {
   "cell_type": "code",
   "execution_count": 47,
   "metadata": {
    "colab": {
     "base_uri": "https://localhost:8080/"
    },
    "id": "iNndiLc4zKZz",
    "outputId": "79a5556d-c63e-42a2-b1a3-4ae6accb1de3"
   },
   "outputs": [
    {
     "data": {
      "text/plain": [
       "SVR(C=1.0, cache_size=200, coef0=0.0, degree=3, epsilon=0.1, gamma='scale',\n",
       "    kernel='rbf', max_iter=-1, shrinking=True, tol=0.001, verbose=False)"
      ]
     },
     "execution_count": 47,
     "metadata": {
      "tags": []
     },
     "output_type": "execute_result"
    }
   ],
   "source": [
    "#import SVR\n",
    "from sklearn.svm import SVR\n",
    "svr = SVR()\n",
    "# fit the SVR with x and y data \n",
    "svr.fit(X, y)"
   ]
  },
  {
   "cell_type": "markdown",
   "metadata": {
    "id": "CbCoQxgoPGDw"
   },
   "source": [
    "#### **Stage 5. Training and testing regression model**\n",
    "\n",
    "**Step 1**\n",
    "* Split your dataset into two sets: training and testing sets.\n",
    "* This splitting must be done randomly (if you don't have timeseries as part of the set,\n",
    "when the process is more complicated)\n",
    "* The proportions can be dierent, for example 80/20, 70/30, 90/10, where the bigger\n",
    "part is the training set, and the smaller part  testing set."
   ]
  },
  {
   "cell_type": "code",
   "execution_count": 48,
   "metadata": {
    "id": "VGtizFr6OgMm"
   },
   "outputs": [],
   "source": [
    "from sklearn.model_selection import train_test_split\n",
    "X_train,X_test,y_train,y_test = train_test_split(X,y, test_size=0.2, random_state=42)"
   ]
  },
  {
   "cell_type": "markdown",
   "metadata": {
    "id": "0wCartJBP_31"
   },
   "source": [
    "**Step 2**\n",
    "* Train the regression model on training set.\n",
    "* You can use dierent sets of features (if possible), with one or more variables.\n",
    "* You can train dierent types of the models (if you wish to try more), but at least\n",
    "you need to try linear regression."
   ]
  },
  {
   "cell_type": "code",
   "execution_count": 49,
   "metadata": {
    "colab": {
     "base_uri": "https://localhost:8080/"
    },
    "id": "rdgQasrHQVY4",
    "outputId": "63d88bba-25ea-4831-ba89-b6da2aaec886"
   },
   "outputs": [
    {
     "name": "stdout",
     "output_type": "stream",
     "text": [
      "Number transactions X_train dataset:  (194, 4)\n",
      "Number transactions y_train dataset:  (194,)\n",
      "Number transactions X_test dataset:  (49, 4)\n",
      "Number transactions y_test dataset:  (49,)\n"
     ]
    }
   ],
   "source": [
    "print(\"Number transactions X_train dataset: \", X_train.shape)\n",
    "print(\"Number transactions y_train dataset: \", y_train.shape)\n",
    "print(\"Number transactions X_test dataset: \", X_test.shape)\n",
    "print(\"Number transactions y_test dataset: \", y_test.shape)"
   ]
  },
  {
   "cell_type": "markdown",
   "metadata": {
    "id": "xPE6zyXowqdY"
   },
   "source": [
    "**K-fold Cross Validation**\n",
    "\n",
    "Cross validation is an approach that you can use to estimate the performance of a machine\n",
    "learning algorithm with less variance than a single train-test set split. It works by splitting\n",
    "the dataset into k-parts (e.g. k = 5 or k = 10). Each split of the data is called a fold. The\n",
    "algorithm is trained on k 􀀀 1 folds with one held back and tested on the held back fold. This is\n",
    "repeated so that each fold of the dataset is given a chance to be the held back test set. After\n",
    "running cross validation you end up with k di\u000b",
    "erent performance scores that you can summarize\n",
    "using a mean and a standard deviation.\n",
    "\n",
    "The result is a more reliable estimate of the performance of the algorithm on new data. It is\n",
    "more accurate because the algorithm is trained and evaluated multiple times on di\u000b",
    "erent data."
   ]
  },
  {
   "cell_type": "code",
   "execution_count": 50,
   "metadata": {
    "colab": {
     "base_uri": "https://localhost:8080/"
    },
    "id": "j6djNo77Qsr5",
    "outputId": "61bf6f40-bd8c-493e-bdcf-1059ed3785da"
   },
   "outputs": [
    {
     "name": "stdout",
     "output_type": "stream",
     "text": [
      "LR: 328136.258201 (183655.319152)\n",
      "LASSO: 328136.225317 (183655.092024)\n",
      "EN: 339579.825151 (206464.663565)\n",
      "Ridge: 328021.013273 (183674.965147)\n",
      "SGD: 327769.408875 (188308.754835)\n",
      "XGB: 338735.183511 (216006.283142)\n",
      "RGF: 349045.296001 (206640.655983)\n",
      "KNN: 352779.257677 (172780.144671)\n",
      "SVR: 576947.796204 (346769.181803)\n",
      "CART: 388792.506980 (204460.552074)\n"
     ]
    }
   ],
   "source": [
    "from sklearn.model_selection import KFold\n",
    "from sklearn.model_selection import cross_val_score\n",
    "num_folds = 10\n",
    "seed = 42\n",
    "scoring = 'neg_mean_squared_error'\n",
    "models = []\n",
    "models.append(('LR', LinearRegression()))\n",
    "models.append(('LASSO', Lasso()))\n",
    "models.append(('EN', ElasticNet()))\n",
    "models.append(('Ridge', Ridge()))\n",
    "models.append(('SGD',SGDRegressor()))\n",
    "models.append(('XGB', XGBRegressor(objective= 'reg:squarederror')))\n",
    "models.append(('RGF', RandomForestRegressor()))\n",
    "models.append(('KNN', KNeighborsRegressor()))\n",
    "models.append(('SVR', SVR()))\n",
    "models.append(('CART', DecisionTreeRegressor()))\n",
    "# evaluate each model in turn\n",
    "results = []\n",
    "names = []\n",
    "\n",
    "for name, model in models:\n",
    "    kfold = KFold(n_splits=num_folds)\n",
    "    cv_results = cross_val_score(model, X_train, y_train, cv=kfold, scoring=scoring)\n",
    "    results.append(cv_results)\n",
    "    names.append(name)\n",
    "    msg = \"%s: %f (%f)\" % (name, np.sqrt(np.abs(cv_results.mean())), np.sqrt(cv_results.std()))\n",
    "    print(msg)\n"
   ]
  },
  {
   "cell_type": "code",
   "execution_count": 51,
   "metadata": {
    "colab": {
     "base_uri": "https://localhost:8080/",
     "height": 294
    },
    "id": "WEPBBrSnVAQB",
    "outputId": "4fef65ee-db66-4934-9b6c-3ba4af5263ab"
   },
   "outputs": [
    {
     "data": {
      "image/png": "[encoded data removed]",
      "text/plain": [
       "<Figure size 432x288 with 1 Axes>"
      ]
     },
     "metadata": {
      "needs_background": "light",
      "tags": []
     },
     "output_type": "display_data"
    }
   ],
   "source": [
    "\n",
    "# Compare Algorithms\n",
    "fig = pyplot.figure()\n",
    "fig.suptitle('Algorithm Comparison')\n",
    "ax = fig.add_subplot(111)\n",
    "pyplot.boxplot(results)\n",
    "ax.set_xticklabels(names)\n",
    "pyplot.show()"
   ]
  },
  {
   "cell_type": "markdown",
   "metadata": {
    "id": "G_cSNs5NRJDY"
   },
   "source": [
    "**Step 3**\n",
    "* Test you model on testing set.\n",
    "* Evaluate how well your model performs.\n",
    "* For that you can apply dierent metrics (MAPE, RMSE, MAE, etc.)\n",
    "* If it is possible, change the type of the model or set of features, and compare the\n",
    "results.\n",
    "* Write report."
   ]
  },
  {
   "cell_type": "markdown",
   "metadata": {
    "id": "vvO84rZSzDjD"
   },
   "source": [
    "**Adding more Features**\n",
    "* One hot encoding on locations\n",
    "* Total rooms \n",
    "* New or Old buildings\n",
    "* Type of buildings\n",
    "* Serviced buildings and not serviced buildings\n",
    "* Buildings in Estate or Not"
   ]
  },
  {
   "cell_type": "code",
   "execution_count": 52,
   "metadata": {
    "colab": {
     "base_uri": "https://localhost:8080/"
    },
    "id": "59dG8TjJRKJV",
    "outputId": "67210923-82ac-4b93-857d-7a85bd43338e"
   },
   "outputs": [
    {
     "name": "stdout",
     "output_type": "stream",
     "text": [
      "0    192\n",
      "1     51\n",
      "Name: New/Old, dtype: int64\n"
     ]
    }
   ],
   "source": [
    "#varable search hold the words to be searched for with the column other_description\n",
    "search_word = '|'.join(['new','almost completed','almost complete'])\n",
    "#creating a variable and converting all column tex to small letters before searching for the desired words \n",
    "cond_  = train['other_description'].str.lower().str.contains(search_word) \n",
    "#creating a new column abd setting a condition whereever it finds the word in variable search_word transform to 1 if not 0\n",
    "train['New/Old'] = np.where(cond_, 1, 0)\n",
    "#print statement to check to count the 1 and o\n",
    "print(train['New/Old'].value_counts())"
   ]
  },
  {
   "cell_type": "code",
   "execution_count": 53,
   "metadata": {
    "colab": {
     "base_uri": "https://localhost:8080/"
    },
    "id": "i4IiI7APYZSQ",
    "outputId": "7e8018ad-7064-40e4-f560-13bcb6f442ce"
   },
   "outputs": [
    {
     "name": "stdout",
     "output_type": "stream",
     "text": [
      "0    149\n",
      "1     94\n",
      "Name: Type, dtype: int64\n"
     ]
    }
   ],
   "source": [
    "#varable search hold the words to be searched for with the column other_description\n",
    "search_word = '|'.join(['new','luxurious','executive','luxury','newly','attic','Exquisitely'])\n",
    "#creating a variable and converting all column tex to small letters before searching for the desired words\n",
    "cond_ = train['other_description'].str.lower().str.contains(search_word)\n",
    "#creating a new column and setting a condition whereever it finds the word in variable search_word transform to 1 if not 0\n",
    "train['Type'] = np.where(cond_, 1, 0)\n",
    "#print statement to check to count the 1 and 0\n",
    "print(train['Type'].value_counts())"
   ]
  },
  {
   "cell_type": "code",
   "execution_count": 54,
   "metadata": {
    "colab": {
     "base_uri": "https://localhost:8080/"
    },
    "id": "8FTeUiWXYZWF",
    "outputId": "07893d65-9c95-4613-8ea0-bf0faa29a1d2"
   },
   "outputs": [
    {
     "name": "stdout",
     "output_type": "stream",
     "text": [
      "0    195\n",
      "1     48\n",
      "Name: Serviced/Not, dtype: int64\n"
     ]
    }
   ],
   "source": [
    "#varable search hold the words to be searched for with the column other_description\n",
    "search_word = '|'.join(['well','serviced','service','maintained','renovated','Decent','relatively'])\n",
    "#creating a variable and converting all column tex to small letters before searching for the desired words\n",
    "cond_= train['other_description'].str.lower().str.contains(search_word) \n",
    "train['Serviced/Not'] = np.where(cond_, 1, 0)\n",
    "#print statement to check to count the 1 and 0\n",
    "print(train['Serviced/Not'].value_counts())"
   ]
  },
  {
   "cell_type": "code",
   "execution_count": 55,
   "metadata": {
    "colab": {
     "base_uri": "https://localhost:8080/"
    },
    "id": "zboilHiqYZZz",
    "outputId": "40cfeb2a-17b0-4167-90d6-632391967b22"
   },
   "outputs": [
    {
     "name": "stdout",
     "output_type": "stream",
     "text": [
      "0    211\n",
      "1     32\n",
      "Name: Estate/Not, dtype: int64\n"
     ]
    }
   ],
   "source": [
    "#varable search hold the words to be searched for with the column other_description\n",
    "search_word = '|'.join(['estate'])\n",
    "#creating a variable and converting all column tex to small letters before searching for the desired words\n",
    "cond_ = train['spec_location'].str.lower().str.contains(search_word)\n",
    "#creating a new column and setting a condition whereever it finds the word in variable search_word transform to 1 if not 0\n",
    "train['Estate/Not'] = np.where(cond_, 1, 0)\n",
    "#print statement to check to count the 1 and 0\n",
    "print(train['Estate/Not'].value_counts())"
   ]
  },
  {
   "cell_type": "code",
   "execution_count": 56,
   "metadata": {
    "id": "k1Ei_xEpYZd0"
   },
   "outputs": [],
   "source": [
    "#summation of all rooms to get total rooms \n",
    "train['Totalrooms'] = train['bedrooms'] + train['bathrooms'] + train['toilets']"
   ]
  },
  {
   "cell_type": "code",
   "execution_count": 57,
   "metadata": {
    "colab": {
     "base_uri": "https://localhost:8080/",
     "height": 307
    },
    "id": "3Q0vqHJKYZg8",
    "outputId": "fb5b98c9-8ac0-40fd-b4e4-1cd233b70ce6"
   },
   "outputs": [
    {
     "data": {
      "text/plain": [
       "<matplotlib.axes._subplots.AxesSubplot at 0x7f2c63f5e438>"
      ]
     },
     "execution_count": 57,
     "metadata": {
      "tags": []
     },
     "output_type": "execute_result"
    },
    {
     "data": {
      "image/png": "[encoded data removed]",
      "text/plain": [
       "<Figure size 432x288 with 1 Axes>"
      ]
     },
     "metadata": {
      "needs_background": "light",
      "tags": []
     },
     "output_type": "display_data"
    }
   ],
   "source": [
    "#box plot to check for outliers in totalrooms and price \n",
    "sns.boxplot('Totalrooms', 'price',  data=train)"
   ]
  },
  {
   "cell_type": "code",
   "execution_count": 58,
   "metadata": {
    "colab": {
     "base_uri": "https://localhost:8080/",
     "height": 752
    },
    "id": "FbIvnfXQYZjw",
    "outputId": "708876ad-d9c2-4070-9edc-f0b58ccb434c"
   },
   "outputs": [
    {
     "data": {
      "text/html": [
       "<div>\n",
       "<style scoped>\n",
       "    .dataframe tbody tr th:only-of-type {\n",
       "        vertical-align: middle;\n",
       "    }\n",
       "\n",
       "    .dataframe tbody tr th {\n",
       "        vertical-align: top;\n",
       "    }\n",
       "\n",
       "    .dataframe thead th {\n",
       "        text-align: right;\n",
       "    }\n",
       "</style>\n",
       "<table border=\"1\" class=\"dataframe\">\n",
       "  <thead>\n",
       "    <tr style=\"text-align: right;\">\n",
       "      <th></th>\n",
       "      <th>id</th>\n",
       "      <th>bedrooms</th>\n",
       "      <th>bathrooms</th>\n",
       "      <th>toilets</th>\n",
       "      <th>parking</th>\n",
       "      <th>description</th>\n",
       "      <th>other_description</th>\n",
       "      <th>location</th>\n",
       "      <th>spec_location</th>\n",
       "      <th>price</th>\n",
       "      <th>New/Old</th>\n",
       "      <th>Type</th>\n",
       "      <th>Serviced/Not</th>\n",
       "      <th>Estate/Not</th>\n",
       "    </tr>\n",
       "    <tr>\n",
       "      <th>Totalrooms</th>\n",
       "      <th></th>\n",
       "      <th></th>\n",
       "      <th></th>\n",
       "      <th></th>\n",
       "      <th></th>\n",
       "      <th></th>\n",
       "      <th></th>\n",
       "      <th></th>\n",
       "      <th></th>\n",
       "      <th></th>\n",
       "      <th></th>\n",
       "      <th></th>\n",
       "      <th></th>\n",
       "      <th></th>\n",
       "    </tr>\n",
       "  </thead>\n",
       "  <tbody>\n",
       "    <tr>\n",
       "      <th>3</th>\n",
       "      <td>40390</td>\n",
       "      <td>1</td>\n",
       "      <td>1</td>\n",
       "      <td>1</td>\n",
       "      <td>1</td>\n",
       "      <td>1 bedroom mini flat for rent</td>\n",
       "      <td>Mini Flat</td>\n",
       "      <td>surulere</td>\n",
       "      <td>Nnobi Street, Kilo, Surulere, Lagos</td>\n",
       "      <td>370000</td>\n",
       "      <td>0</td>\n",
       "      <td>0</td>\n",
       "      <td>0</td>\n",
       "      <td>0</td>\n",
       "    </tr>\n",
       "    <tr>\n",
       "      <th>4</th>\n",
       "      <td>95381</td>\n",
       "      <td>1</td>\n",
       "      <td>1</td>\n",
       "      <td>2</td>\n",
       "      <td>1</td>\n",
       "      <td>1 bedroom mini flat for rent</td>\n",
       "      <td>Newly Built Miniflat</td>\n",
       "      <td>surulere</td>\n",
       "      <td>Off Olufemi Street By Ogunlana Drive, Ogunlana...</td>\n",
       "      <td>550000</td>\n",
       "      <td>1</td>\n",
       "      <td>1</td>\n",
       "      <td>0</td>\n",
       "      <td>0</td>\n",
       "    </tr>\n",
       "    <tr>\n",
       "      <th>5</th>\n",
       "      <td>90018</td>\n",
       "      <td>1</td>\n",
       "      <td>2</td>\n",
       "      <td>2</td>\n",
       "      <td>2</td>\n",
       "      <td>1 bedroom mini flat for rent</td>\n",
       "      <td>Executive Mini Flat</td>\n",
       "      <td>surulere</td>\n",
       "      <td>Babs Animashaun Road, Bode Thomas, Surulere, L...</td>\n",
       "      <td>500000</td>\n",
       "      <td>0</td>\n",
       "      <td>1</td>\n",
       "      <td>0</td>\n",
       "      <td>0</td>\n",
       "    </tr>\n",
       "    <tr>\n",
       "      <th>6</th>\n",
       "      <td>83465</td>\n",
       "      <td>2</td>\n",
       "      <td>2</td>\n",
       "      <td>2</td>\n",
       "      <td>6</td>\n",
       "      <td>2 bedroom flat for rent</td>\n",
       "      <td>Lovely 2bed Apartment</td>\n",
       "      <td>yaba</td>\n",
       "      <td>Off At Finbarrs Road Akoka, Akoka, Yaba, Lagos</td>\n",
       "      <td>700000</td>\n",
       "      <td>0</td>\n",
       "      <td>0</td>\n",
       "      <td>0</td>\n",
       "      <td>0</td>\n",
       "    </tr>\n",
       "    <tr>\n",
       "      <th>7</th>\n",
       "      <td>9026</td>\n",
       "      <td>2</td>\n",
       "      <td>2</td>\n",
       "      <td>3</td>\n",
       "      <td>5</td>\n",
       "      <td>2 bedroom flat for rent</td>\n",
       "      <td>2 Bedroom Flat</td>\n",
       "      <td>surulere</td>\n",
       "      <td>Off Adekunle Kuye Street., Kilo, Surulere, Lagos</td>\n",
       "      <td>1000000</td>\n",
       "      <td>0</td>\n",
       "      <td>0</td>\n",
       "      <td>0</td>\n",
       "      <td>0</td>\n",
       "    </tr>\n",
       "    <tr>\n",
       "      <th>8</th>\n",
       "      <td>55172</td>\n",
       "      <td>3</td>\n",
       "      <td>2</td>\n",
       "      <td>3</td>\n",
       "      <td>3</td>\n",
       "      <td>3 bedroom flat for rent</td>\n",
       "      <td>Relatively New 3b Bedroom Flat Apartment</td>\n",
       "      <td>gbagada</td>\n",
       "      <td>Ifako, Gbagada, Lagos</td>\n",
       "      <td>1200000</td>\n",
       "      <td>1</td>\n",
       "      <td>1</td>\n",
       "      <td>1</td>\n",
       "      <td>0</td>\n",
       "    </tr>\n",
       "    <tr>\n",
       "      <th>9</th>\n",
       "      <td>70725</td>\n",
       "      <td>3</td>\n",
       "      <td>3</td>\n",
       "      <td>3</td>\n",
       "      <td>6</td>\n",
       "      <td>3 bedroom flat for rent</td>\n",
       "      <td>A Newly Renovated 3 Bedroom Flat With Modern F...</td>\n",
       "      <td>gbagada</td>\n",
       "      <td>Ifako, Gbagada, Lagos</td>\n",
       "      <td>1500000</td>\n",
       "      <td>1</td>\n",
       "      <td>1</td>\n",
       "      <td>1</td>\n",
       "      <td>0</td>\n",
       "    </tr>\n",
       "    <tr>\n",
       "      <th>10</th>\n",
       "      <td>95063</td>\n",
       "      <td>3</td>\n",
       "      <td>3</td>\n",
       "      <td>4</td>\n",
       "      <td>8</td>\n",
       "      <td>3 bedroom flat for rent</td>\n",
       "      <td>A Luxurious 3 Bedroom Flat With Modern Facilities</td>\n",
       "      <td>gbagada</td>\n",
       "      <td>Millennium Estate, Gbagada, Lagos</td>\n",
       "      <td>1900000</td>\n",
       "      <td>0</td>\n",
       "      <td>1</td>\n",
       "      <td>0</td>\n",
       "      <td>1</td>\n",
       "    </tr>\n",
       "    <tr>\n",
       "      <th>11</th>\n",
       "      <td>55910</td>\n",
       "      <td>3</td>\n",
       "      <td>3</td>\n",
       "      <td>5</td>\n",
       "      <td>2</td>\n",
       "      <td>3 bedroom house for rent</td>\n",
       "      <td>Luxuriously Built And Tastefully Finished (3) ...</td>\n",
       "      <td>gbagada</td>\n",
       "      <td>Gbagada Phase 1, Gbagada, Lagos</td>\n",
       "      <td>2290000</td>\n",
       "      <td>0</td>\n",
       "      <td>1</td>\n",
       "      <td>0</td>\n",
       "      <td>0</td>\n",
       "    </tr>\n",
       "    <tr>\n",
       "      <th>12</th>\n",
       "      <td>96880</td>\n",
       "      <td>4</td>\n",
       "      <td>4</td>\n",
       "      <td>4</td>\n",
       "      <td>3</td>\n",
       "      <td>4 bedroom house for rent</td>\n",
       "      <td>A Spacious 4bedroom</td>\n",
       "      <td>yaba</td>\n",
       "      <td>Akoka, Yaba, Lagos</td>\n",
       "      <td>900000</td>\n",
       "      <td>0</td>\n",
       "      <td>0</td>\n",
       "      <td>0</td>\n",
       "      <td>0</td>\n",
       "    </tr>\n",
       "    <tr>\n",
       "      <th>13</th>\n",
       "      <td>91507</td>\n",
       "      <td>4</td>\n",
       "      <td>4</td>\n",
       "      <td>5</td>\n",
       "      <td>3</td>\n",
       "      <td>4 bedroom semi-detached duplex for rent</td>\n",
       "      <td>Nice And Well Finished 4 Bedroom Duplex</td>\n",
       "      <td>surulere</td>\n",
       "      <td>Off Kilo Road Surulere, Kilo, Surulere, Lagos</td>\n",
       "      <td>2200000</td>\n",
       "      <td>0</td>\n",
       "      <td>0</td>\n",
       "      <td>1</td>\n",
       "      <td>0</td>\n",
       "    </tr>\n",
       "    <tr>\n",
       "      <th>14</th>\n",
       "      <td>68839</td>\n",
       "      <td>5</td>\n",
       "      <td>4</td>\n",
       "      <td>5</td>\n",
       "      <td>3</td>\n",
       "      <td>5 bedroom terraced duplex for rent</td>\n",
       "      <td>Renovated Decent 5 Bedrooms Duplex Commercial ...</td>\n",
       "      <td>gbagada</td>\n",
       "      <td>Estaport, Soluyi, Gbagada, Lagos</td>\n",
       "      <td>2290000</td>\n",
       "      <td>0</td>\n",
       "      <td>0</td>\n",
       "      <td>1</td>\n",
       "      <td>0</td>\n",
       "    </tr>\n",
       "    <tr>\n",
       "      <th>15</th>\n",
       "      <td>49758</td>\n",
       "      <td>5</td>\n",
       "      <td>5</td>\n",
       "      <td>5</td>\n",
       "      <td>5</td>\n",
       "      <td>5 bedroom detached duplex for rent</td>\n",
       "      <td>Well Maintained 5 Bedroom Detached House</td>\n",
       "      <td>surulere</td>\n",
       "      <td>Adeniran Ogunsanya, Surulere, Lagos</td>\n",
       "      <td>2500000</td>\n",
       "      <td>0</td>\n",
       "      <td>0</td>\n",
       "      <td>1</td>\n",
       "      <td>0</td>\n",
       "    </tr>\n",
       "    <tr>\n",
       "      <th>16</th>\n",
       "      <td>40837</td>\n",
       "      <td>5</td>\n",
       "      <td>5</td>\n",
       "      <td>6</td>\n",
       "      <td>0</td>\n",
       "      <td>5 bedroom detached duplex for rent</td>\n",
       "      <td>5 Bedroom Fully Detached House With Service Qu...</td>\n",
       "      <td>surulere</td>\n",
       "      <td>Ijeshatedo, Surulere, Lagos</td>\n",
       "      <td>2000000</td>\n",
       "      <td>0</td>\n",
       "      <td>0</td>\n",
       "      <td>1</td>\n",
       "      <td>0</td>\n",
       "    </tr>\n",
       "  </tbody>\n",
       "</table>\n",
       "</div>"
      ],
      "text/plain": [
       "               id  bedrooms  bathrooms  ...  Type  Serviced/Not Estate/Not\n",
       "Totalrooms                              ...                               \n",
       "3           40390         1          1  ...     0             0          0\n",
       "4           95381         1          1  ...     1             0          0\n",
       "5           90018         1          2  ...     1             0          0\n",
       "6           83465         2          2  ...     0             0          0\n",
       "7            9026         2          2  ...     0             0          0\n",
       "8           55172         3          2  ...     1             1          0\n",
       "9           70725         3          3  ...     1             1          0\n",
       "10          95063         3          3  ...     1             0          1\n",
       "11          55910         3          3  ...     1             0          0\n",
       "12          96880         4          4  ...     0             0          0\n",
       "13          91507         4          4  ...     0             1          0\n",
       "14          68839         5          4  ...     0             1          0\n",
       "15          49758         5          5  ...     0             1          0\n",
       "16          40837         5          5  ...     0             1          0\n",
       "\n",
       "[14 rows x 14 columns]"
      ]
     },
     "execution_count": 58,
     "metadata": {
      "tags": []
     },
     "output_type": "execute_result"
    }
   ],
   "source": [
    "tot = train.groupby('Totalrooms')\n",
    "tot.first()"
   ]
  },
  {
   "cell_type": "code",
   "execution_count": 59,
   "metadata": {
    "colab": {
     "base_uri": "https://localhost:8080/",
     "height": 514
    },
    "id": "WHPRAoJvYZmT",
    "outputId": "7ed61566-26dd-49ff-bc53-010a27a023e0"
   },
   "outputs": [
    {
     "data": {
      "text/html": [
       "<div>\n",
       "<style scoped>\n",
       "    .dataframe tbody tr th:only-of-type {\n",
       "        vertical-align: middle;\n",
       "    }\n",
       "\n",
       "    .dataframe tbody tr th {\n",
       "        vertical-align: top;\n",
       "    }\n",
       "\n",
       "    .dataframe thead th {\n",
       "        text-align: right;\n",
       "    }\n",
       "</style>\n",
       "<table border=\"1\" class=\"dataframe\">\n",
       "  <thead>\n",
       "    <tr style=\"text-align: right;\">\n",
       "      <th></th>\n",
       "      <th>count</th>\n",
       "      <th>mean</th>\n",
       "      <th>std</th>\n",
       "      <th>min</th>\n",
       "      <th>25%</th>\n",
       "      <th>50%</th>\n",
       "      <th>75%</th>\n",
       "      <th>85%</th>\n",
       "      <th>90%</th>\n",
       "      <th>max</th>\n",
       "    </tr>\n",
       "    <tr>\n",
       "      <th>Totalrooms</th>\n",
       "      <th></th>\n",
       "      <th></th>\n",
       "      <th></th>\n",
       "      <th></th>\n",
       "      <th></th>\n",
       "      <th></th>\n",
       "      <th></th>\n",
       "      <th></th>\n",
       "      <th></th>\n",
       "      <th></th>\n",
       "    </tr>\n",
       "  </thead>\n",
       "  <tbody>\n",
       "    <tr>\n",
       "      <th>3</th>\n",
       "      <td>51.0</td>\n",
       "      <td>4.386275e+05</td>\n",
       "      <td>110435.856638</td>\n",
       "      <td>300000.0</td>\n",
       "      <td>350000.0</td>\n",
       "      <td>400000.0</td>\n",
       "      <td>500000.0</td>\n",
       "      <td>500000.0</td>\n",
       "      <td>600000.0</td>\n",
       "      <td>750000.0</td>\n",
       "    </tr>\n",
       "    <tr>\n",
       "      <th>4</th>\n",
       "      <td>10.0</td>\n",
       "      <td>7.400000e+05</td>\n",
       "      <td>152388.392675</td>\n",
       "      <td>550000.0</td>\n",
       "      <td>612500.0</td>\n",
       "      <td>700000.0</td>\n",
       "      <td>875000.0</td>\n",
       "      <td>900000.0</td>\n",
       "      <td>910000.0</td>\n",
       "      <td>1000000.0</td>\n",
       "    </tr>\n",
       "    <tr>\n",
       "      <th>5</th>\n",
       "      <td>10.0</td>\n",
       "      <td>5.733500e+05</td>\n",
       "      <td>162931.486964</td>\n",
       "      <td>333500.0</td>\n",
       "      <td>462500.0</td>\n",
       "      <td>550000.0</td>\n",
       "      <td>687500.0</td>\n",
       "      <td>765000.0</td>\n",
       "      <td>800000.0</td>\n",
       "      <td>800000.0</td>\n",
       "    </tr>\n",
       "    <tr>\n",
       "      <th>6</th>\n",
       "      <td>16.0</td>\n",
       "      <td>7.125000e+05</td>\n",
       "      <td>190175.357675</td>\n",
       "      <td>450000.0</td>\n",
       "      <td>587500.0</td>\n",
       "      <td>675000.0</td>\n",
       "      <td>850000.0</td>\n",
       "      <td>887500.0</td>\n",
       "      <td>950000.0</td>\n",
       "      <td>1100000.0</td>\n",
       "    </tr>\n",
       "    <tr>\n",
       "      <th>7</th>\n",
       "      <td>44.0</td>\n",
       "      <td>1.111364e+06</td>\n",
       "      <td>294496.739897</td>\n",
       "      <td>550000.0</td>\n",
       "      <td>900000.0</td>\n",
       "      <td>1000000.0</td>\n",
       "      <td>1300000.0</td>\n",
       "      <td>1355000.0</td>\n",
       "      <td>1500000.0</td>\n",
       "      <td>1800000.0</td>\n",
       "    </tr>\n",
       "    <tr>\n",
       "      <th>8</th>\n",
       "      <td>23.0</td>\n",
       "      <td>1.097391e+06</td>\n",
       "      <td>395338.949985</td>\n",
       "      <td>450000.0</td>\n",
       "      <td>900000.0</td>\n",
       "      <td>1000000.0</td>\n",
       "      <td>1200000.0</td>\n",
       "      <td>1440000.0</td>\n",
       "      <td>1500000.0</td>\n",
       "      <td>2290000.0</td>\n",
       "    </tr>\n",
       "    <tr>\n",
       "      <th>9</th>\n",
       "      <td>25.0</td>\n",
       "      <td>1.221400e+06</td>\n",
       "      <td>477333.129655</td>\n",
       "      <td>550000.0</td>\n",
       "      <td>900000.0</td>\n",
       "      <td>1200000.0</td>\n",
       "      <td>1500000.0</td>\n",
       "      <td>1615000.0</td>\n",
       "      <td>1615000.0</td>\n",
       "      <td>2500000.0</td>\n",
       "    </tr>\n",
       "    <tr>\n",
       "      <th>10</th>\n",
       "      <td>39.0</td>\n",
       "      <td>1.652179e+06</td>\n",
       "      <td>445550.804699</td>\n",
       "      <td>550000.0</td>\n",
       "      <td>1450000.0</td>\n",
       "      <td>1500000.0</td>\n",
       "      <td>1950000.0</td>\n",
       "      <td>2290000.0</td>\n",
       "      <td>2290000.0</td>\n",
       "      <td>2500000.0</td>\n",
       "    </tr>\n",
       "    <tr>\n",
       "      <th>11</th>\n",
       "      <td>13.0</td>\n",
       "      <td>1.710000e+06</td>\n",
       "      <td>398110.118770</td>\n",
       "      <td>1000000.0</td>\n",
       "      <td>1500000.0</td>\n",
       "      <td>1615000.0</td>\n",
       "      <td>2000000.0</td>\n",
       "      <td>2290000.0</td>\n",
       "      <td>2290000.0</td>\n",
       "      <td>2290000.0</td>\n",
       "    </tr>\n",
       "    <tr>\n",
       "      <th>12</th>\n",
       "      <td>3.0</td>\n",
       "      <td>1.338333e+06</td>\n",
       "      <td>383937.929011</td>\n",
       "      <td>900000.0</td>\n",
       "      <td>1200000.0</td>\n",
       "      <td>1500000.0</td>\n",
       "      <td>1557500.0</td>\n",
       "      <td>1580500.0</td>\n",
       "      <td>1592000.0</td>\n",
       "      <td>1615000.0</td>\n",
       "    </tr>\n",
       "    <tr>\n",
       "      <th>13</th>\n",
       "      <td>5.0</td>\n",
       "      <td>2.263000e+06</td>\n",
       "      <td>384831.131797</td>\n",
       "      <td>1615000.0</td>\n",
       "      <td>2200000.0</td>\n",
       "      <td>2500000.0</td>\n",
       "      <td>2500000.0</td>\n",
       "      <td>2500000.0</td>\n",
       "      <td>2500000.0</td>\n",
       "      <td>2500000.0</td>\n",
       "    </tr>\n",
       "    <tr>\n",
       "      <th>14</th>\n",
       "      <td>2.0</td>\n",
       "      <td>2.290000e+06</td>\n",
       "      <td>0.000000</td>\n",
       "      <td>2290000.0</td>\n",
       "      <td>2290000.0</td>\n",
       "      <td>2290000.0</td>\n",
       "      <td>2290000.0</td>\n",
       "      <td>2290000.0</td>\n",
       "      <td>2290000.0</td>\n",
       "      <td>2290000.0</td>\n",
       "    </tr>\n",
       "    <tr>\n",
       "      <th>15</th>\n",
       "      <td>1.0</td>\n",
       "      <td>2.500000e+06</td>\n",
       "      <td>NaN</td>\n",
       "      <td>2500000.0</td>\n",
       "      <td>2500000.0</td>\n",
       "      <td>2500000.0</td>\n",
       "      <td>2500000.0</td>\n",
       "      <td>2500000.0</td>\n",
       "      <td>2500000.0</td>\n",
       "      <td>2500000.0</td>\n",
       "    </tr>\n",
       "    <tr>\n",
       "      <th>16</th>\n",
       "      <td>1.0</td>\n",
       "      <td>2.000000e+06</td>\n",
       "      <td>NaN</td>\n",
       "      <td>2000000.0</td>\n",
       "      <td>2000000.0</td>\n",
       "      <td>2000000.0</td>\n",
       "      <td>2000000.0</td>\n",
       "      <td>2000000.0</td>\n",
       "      <td>2000000.0</td>\n",
       "      <td>2000000.0</td>\n",
       "    </tr>\n",
       "  </tbody>\n",
       "</table>\n",
       "</div>"
      ],
      "text/plain": [
       "            count          mean            std  ...        85%        90%        max\n",
       "Totalrooms                                      ...                                 \n",
       "3            51.0  4.386275e+05  110435.856638  ...   500000.0   600000.0   750000.0\n",
       "4            10.0  7.400000e+05  152388.392675  ...   900000.0   910000.0  1000000.0\n",
       "5            10.0  5.733500e+05  162931.486964  ...   765000.0   800000.0   800000.0\n",
       "6            16.0  7.125000e+05  190175.357675  ...   887500.0   950000.0  1100000.0\n",
       "7            44.0  1.111364e+06  294496.739897  ...  1355000.0  1500000.0  1800000.0\n",
       "8            23.0  1.097391e+06  395338.949985  ...  1440000.0  1500000.0  2290000.0\n",
       "9            25.0  1.221400e+06  477333.129655  ...  1615000.0  1615000.0  2500000.0\n",
       "10           39.0  1.652179e+06  445550.804699  ...  2290000.0  2290000.0  2500000.0\n",
       "11           13.0  1.710000e+06  398110.118770  ...  2290000.0  2290000.0  2290000.0\n",
       "12            3.0  1.338333e+06  383937.929011  ...  1580500.0  1592000.0  1615000.0\n",
       "13            5.0  2.263000e+06  384831.131797  ...  2500000.0  2500000.0  2500000.0\n",
       "14            2.0  2.290000e+06       0.000000  ...  2290000.0  2290000.0  2290000.0\n",
       "15            1.0  2.500000e+06            NaN  ...  2500000.0  2500000.0  2500000.0\n",
       "16            1.0  2.000000e+06            NaN  ...  2000000.0  2000000.0  2000000.0\n",
       "\n",
       "[14 rows x 10 columns]"
      ]
     },
     "execution_count": 59,
     "metadata": {
      "tags": []
     },
     "output_type": "execute_result"
    }
   ],
   "source": [
    "# percentile list \n",
    "perc =[.25, .50, .75, .85, .90]\n",
    "tot.price.describe(percentiles = perc)"
   ]
  },
  {
   "cell_type": "code",
   "execution_count": 60,
   "metadata": {
    "id": "vpF_aWy6YZxu"
   },
   "outputs": [],
   "source": [
    "#code to check the dataset for totalrooms and labels matching 7.Then for each line below the figure is the bench mark\n",
    "train['price']  = np.where(((train['Totalrooms']== 3) & (train['price']>600000)), 600000, train['price'])\n",
    "\n",
    "train['price']  = np.where(((train['Totalrooms']== 8) & (train['price']>1500000)), 1500000, train['price'])\n",
    "\n",
    "train['price']  = np.where(((train['Totalrooms']== 9) & (train['price']>1615000)), 1615000, train['price'])\n",
    "\n",
    "train['price']  = np.where(((train['Totalrooms']== 10) & (train['price']<1450000)), 1450000, train['price'])\n",
    "\n",
    "train['price']  = np.where(((train['Totalrooms']== 13) & (train['price']<2200000)), 2200000, train['price'])"
   ]
  },
  {
   "cell_type": "code",
   "execution_count": 61,
   "metadata": {
    "colab": {
     "base_uri": "https://localhost:8080/",
     "height": 307
    },
    "id": "b37KYHXmYZ0t",
    "outputId": "ad693c0d-097d-4a61-9580-1d4ae1d6860c"
   },
   "outputs": [
    {
     "data": {
      "text/plain": [
       "<matplotlib.axes._subplots.AxesSubplot at 0x7f2c63c37630>"
      ]
     },
     "execution_count": 61,
     "metadata": {
      "tags": []
     },
     "output_type": "execute_result"
    },
    {
     "data": {
      "image/png": "[encoded data removed]",
      "text/plain": [
       "<Figure size 432x288 with 1 Axes>"
      ]
     },
     "metadata": {
      "needs_background": "light",
      "tags": []
     },
     "output_type": "display_data"
    }
   ],
   "source": [
    "#box plot to check for outliers in totalrooms and price \n",
    "sns.boxplot('Totalrooms', 'price',  data=train)"
   ]
  },
  {
   "cell_type": "code",
   "execution_count": 62,
   "metadata": {
    "id": "P54lyD1bcWlH"
   },
   "outputs": [],
   "source": [
    "#creating a dummie for a categorical variable \n",
    "dummyLocation = pd.get_dummies(train['location'])\n",
    "#comcatinating dummy and fulldata\n",
    "train = pd.concat([train, dummyLocation], axis =1)"
   ]
  },
  {
   "cell_type": "code",
   "execution_count": 63,
   "metadata": {
    "id": "RAvMtrDrpb5e"
   },
   "outputs": [],
   "source": [
    "X = train[['bedrooms', 'bathrooms', 'toilets', 'parking','New/Old', 'Type', 'Serviced/Not', 'Estate/Not', 'Totalrooms', 'gbagada',\n",
    "       'surulere', 'yaba']]\n",
    "y = train.price"
   ]
  },
  {
   "cell_type": "code",
   "execution_count": 64,
   "metadata": {
    "id": "vgluU840pcJT"
   },
   "outputs": [],
   "source": [
    "X_train,X_test,y_train,y_test = train_test_split(X,y, test_size=0.2, random_state=42)"
   ]
  },
  {
   "cell_type": "code",
   "execution_count": 65,
   "metadata": {
    "colab": {
     "base_uri": "https://localhost:8080/"
    },
    "id": "n3MdF9B2pcVD",
    "outputId": "786488a0-cf6d-4b25-bab3-1ea170d727c6"
   },
   "outputs": [
    {
     "name": "stdout",
     "output_type": "stream",
     "text": [
      "LR: 295531.692592 (208919.051049)\n",
      "LASSO: 295682.104762 (208718.583378)\n",
      "EN: 297820.951124 (187662.688977)\n",
      "Ridge: 294676.436585 (206214.668353)\n",
      "SGD: 305520.767836 (199347.674140)\n",
      "XGB: 302463.571822 (224210.808322)\n",
      "RGF: 317949.556523 (209830.201925)\n",
      "KNN: 304161.744740 (185126.925847)\n",
      "SVR: 573103.529913 (354447.018997)\n",
      "CART: 397737.167173 (249860.169282)\n"
     ]
    }
   ],
   "source": [
    "# Test options and evaluation metric\n",
    "num_folds = 10\n",
    "seed = 42\n",
    "scoring = 'neg_mean_squared_error'\n",
    "models = []\n",
    "models.append(('LR', LinearRegression()))\n",
    "models.append(('LASSO', Lasso()))\n",
    "models.append(('EN', ElasticNet()))\n",
    "models.append(('Ridge', Ridge()))\n",
    "models.append(('SGD',SGDRegressor()))\n",
    "models.append(('XGB', XGBRegressor(objective= 'reg:squarederror')))\n",
    "models.append(('RGF', RandomForestRegressor()))\n",
    "models.append(('KNN', KNeighborsRegressor()))\n",
    "models.append(('SVR', SVR()))\n",
    "models.append(('CART', DecisionTreeRegressor()))\n",
    "# evaluate each model in turn\n",
    "results = []\n",
    "names = []\n",
    "\n",
    "for name, model in models:\n",
    "    kfold = KFold(n_splits=num_folds)\n",
    "    cv_results = cross_val_score(model, X_train, y_train, cv=kfold, scoring=scoring)\n",
    "    results.append(cv_results)\n",
    "    names.append(name)\n",
    "    msg = \"%s: %f (%f)\" % (name, np.sqrt(np.abs(cv_results.mean())), np.sqrt(cv_results.std()))\n",
    "    print(msg)"
   ]
  },
  {
   "cell_type": "code",
   "execution_count": 66,
   "metadata": {
    "colab": {
     "base_uri": "https://localhost:8080/",
     "height": 294
    },
    "id": "MzfwXlicpch_",
    "outputId": "ba0c521f-bf9a-451e-b8b1-4f517af9e380"
   },
   "outputs": [
    {
     "data": {
      "image/png": "[encoded data removed]",
      "text/plain": [
       "<Figure size 432x288 with 1 Axes>"
      ]
     },
     "metadata": {
      "needs_background": "light",
      "tags": []
     },
     "output_type": "display_data"
    }
   ],
   "source": [
    "# Compare Algorithms\n",
    "fig = pyplot.figure()\n",
    "fig.suptitle('Algorithm Comparison')\n",
    "ax = fig.add_subplot(111)\n",
    "pyplot.boxplot(results)\n",
    "ax.set_xticklabels(names)\n",
    "pyplot.show()"
   ]
  },
  {
   "cell_type": "code",
   "execution_count": 67,
   "metadata": {
    "id": "8bq8WH-RrX3F"
   },
   "outputs": [],
   "source": [
    "from sklearn import metrics"
   ]
  },
  {
   "cell_type": "code",
   "execution_count": 68,
   "metadata": {
    "id": "Qf1U1iLorGob"
   },
   "outputs": [],
   "source": [
    "#creating a function to calculate MAPE\n",
    "from sklearn.metrics import mean_squared_error\n",
    "def mape(y_true, y_pred): \n",
    "    y_true, y_pred = np.array(y_true), np.array(y_pred)\n",
    "    return np.mean(np.abs((y_true - y_pred) / y_true)) * 100\n",
    "    "
   ]
  },
  {
   "cell_type": "code",
   "execution_count": 69,
   "metadata": {
    "id": "DI1zQELGvk1f"
   },
   "outputs": [],
   "source": [
    "from scipy.stats import norm\n",
    "def plot_model_evaluation(y_test, pred_test):\n",
    "    y_true = y_test\n",
    "    residuals = y_true - pred_test\n",
    "    fig, axs = plt.subplots(1, 2, figsize=(20,5))\n",
    "\n",
    "    p0 = sns.histplot(residuals, ax=axs[0], stat=\"density\")\n",
    "    axs[0].set_xlabel('Residuals', fontsize=18)\n",
    "    axs[0].set_ylabel('')\n",
    "    p0.text(residuals.min(), p0.get_ylim()[1]*0.8, \"Mean of residuals: {:.2f}\".format(residuals.mean()))\n",
    "    \n",
    "    mean,std = norm.fit(residuals)\n",
    "    x = np.linspace(residuals.min(), residuals.max(), 100)\n",
    "    y = norm.pdf(x, mean, std)\n",
    "    sns.lineplot(x=x, y=y, ax=axs[0])\n",
    "    \n",
    "    sns.scatterplot(x=y_true, y=pred_test, ax=axs[1])\n",
    "    axs[1].set_xlabel('Actual', fontsize=18)\n",
    "    axs[1].set_ylabel('Predicted', fontsize=18)\n",
    "    sns.lineplot(x=[0, max(y_true)], y=[0, max(y_true)], ax=axs[1])"
   ]
  },
  {
   "cell_type": "code",
   "execution_count": 70,
   "metadata": {
    "colab": {
     "base_uri": "https://localhost:8080/"
    },
    "id": "U8Y7lYfwr7Jm",
    "outputId": "d6903920-7dcd-4a36-ee5d-7bc94969ce79"
   },
   "outputs": [
    {
     "name": "stdout",
     "output_type": "stream",
     "text": [
      "Train MAPE:  21.517174505184542\n",
      "Test MAPE:  23.074564002373403\n",
      "Train RMSE:  274049.500914534\n",
      "Test RMSE:  303383.98460037407\n",
      "Train MSE:  75103128951.50516\n",
      "Test MSE:  92041842112.0\n"
     ]
    }
   ],
   "source": [
    "#using LinearRegression without cross validating dataset\n",
    "model_ = LinearRegression()\n",
    "model_.fit(X_train, y_train)\n",
    "pred_train = model_.predict(X_train)\n",
    "pred_test = model_.predict(X_test)\n",
    "print('Train MAPE: ', mape(y_train, pred_train))\n",
    "print('Test MAPE: ', mape(y_test, pred_test))\n",
    "print (\"Train RMSE: \",np.sqrt(metrics.mean_squared_error(y_train, pred_train)))\n",
    "print (\"Test RMSE: \",np.sqrt(metrics.mean_squared_error(y_test, pred_test)))\n",
    "print (\"Train MSE: \",metrics.mean_squared_error(y_train, pred_train))\n",
    "print (\"Test MSE: \",metrics.mean_squared_error(y_test, pred_test))\n"
   ]
  },
  {
   "cell_type": "code",
   "execution_count": 71,
   "metadata": {
    "colab": {
     "base_uri": "https://localhost:8080/"
    },
    "id": "sfN879bguVOG",
    "outputId": "5342e18e-54a6-4db6-858a-77c744c345a4"
   },
   "outputs": [
    {
     "name": "stdout",
     "output_type": "stream",
     "text": [
      "RandomizedSearchCV(cv=7, error_score=nan,\n",
      "                   estimator=Ridge(alpha=1.0, copy_X=True, fit_intercept=True,\n",
      "                                   max_iter=None, normalize=False,\n",
      "                                   random_state=None, solver='auto',\n",
      "                                   tol=0.001),\n",
      "                   iid='deprecated', n_iter=100, n_jobs=None,\n",
      "                   param_distributions={'alpha': <scipy.stats._distn_infrastructure.rv_frozen object at 0x7f2c63a34278>},\n",
      "                   pre_dispatch='2*n_jobs', random_state=None, refit=True,\n",
      "                   return_train_score=False, scoring=None, verbose=0)\n"
     ]
    }
   ],
   "source": [
    "#using Ridge \n",
    "# Create the hyperparameter grid\n",
    "from sklearn.pipeline import Pipeline\n",
    "from sklearn.model_selection import GridSearchCV\n",
    "from sklearn.model_selection import RandomizedSearchCV\n",
    "from scipy.stats import uniform as sp_rand\n",
    "\n",
    "# prepare a uniform distribution to sample for the alpha parameter\n",
    "param_grid = {'alpha': sp_rand()}\n",
    "# create and fit a ridge regression model, testing random alpha values\n",
    "model = Ridge()\n",
    "rsearch = RandomizedSearchCV(estimator=model, param_distributions=param_grid, n_iter=100, cv=7)\n",
    "rsearch.fit(X_train, y_train)\n",
    "print(rsearch)"
   ]
  },
  {
   "cell_type": "code",
   "execution_count": 72,
   "metadata": {
    "colab": {
     "base_uri": "https://localhost:8080/"
    },
    "id": "ScYfe1KZHV8w",
    "outputId": "36e8db24-7454-47f9-c931-11fbaeee02c8"
   },
   "outputs": [
    {
     "name": "stdout",
     "output_type": "stream",
     "text": [
      "Train MAPE:  21.815159942932446\n",
      "Test MAPE:  23.195666062159987\n",
      "Train RMSE:  274120.9912230711\n",
      "Test RMSE:  302795.2963362656\n",
      "Train MSE:  75142317829.11903\n",
      "Test MSE:  91684991483.36687\n"
     ]
    }
   ],
   "source": [
    "#predicting using tuned Ridge\n",
    "pred_train = rsearch.predict(X_train)\n",
    "pred_test = rsearch.predict(X_test)\n",
    "print('Train MAPE: ', mape(y_train, pred_train))\n",
    "print('Test MAPE: ', mape(y_test, pred_test))\n",
    "print (\"Train RMSE: \",np.sqrt(metrics.mean_squared_error(y_train, pred_train)))\n",
    "print (\"Test RMSE: \",np.sqrt(metrics.mean_squared_error(y_test, pred_test)))\n",
    "print (\"Train MSE: \",metrics.mean_squared_error(y_train, pred_train))\n",
    "print (\"Test MSE: \",metrics.mean_squared_error(y_test, pred_test))"
   ]
  },
  {
   "cell_type": "code",
   "execution_count": 73,
   "metadata": {
    "id": "iFdF-WYir7gd"
   },
   "outputs": [],
   "source": [
    "#using Lasso\n",
    "# define model\n",
    "model = Lasso()\n",
    "# define model evaluation method\n",
    "cv = KFold(n_splits=7, random_state=42)\n",
    "# define grid\n",
    "grid = dict()\n",
    "grid['alpha'] = np.arange(0, 1, 0.01)\n",
    "# define search\n",
    "search = GridSearchCV(model, grid, scoring='neg_mean_absolute_error', cv=cv, n_jobs=-1)\n",
    "# perform the search\n",
    "results = search.fit(X_train, y_train)"
   ]
  },
  {
   "cell_type": "code",
   "execution_count": 74,
   "metadata": {
    "colab": {
     "base_uri": "https://localhost:8080/"
    },
    "id": "jePC80sG40xr",
    "outputId": "b43d5901-ba72-4cd4-d1cf-b91e5a328adb"
   },
   "outputs": [
    {
     "name": "stdout",
     "output_type": "stream",
     "text": [
      "Train MAPE:  21.80618077250421\n",
      "Test MAPE:  23.252725556735413\n",
      "Train RMSE:  274066.34908034146\n",
      "Test RMSE:  302870.9487527185\n",
      "Train MSE:  75112363698.22757\n",
      "Test MSE:  91730811598.37186\n"
     ]
    }
   ],
   "source": [
    "pred_train = results.predict(X_train)\n",
    "pred_test = results.predict(X_test)\n",
    "print('Train MAPE: ', mape(y_train, pred_train))\n",
    "print('Test MAPE: ', mape(y_test, pred_test))\n",
    "print (\"Train RMSE: \",np.sqrt(metrics.mean_squared_error(y_train, pred_train)))\n",
    "print (\"Test RMSE: \",np.sqrt(metrics.mean_squared_error(y_test, pred_test)))\n",
    "print (\"Train MSE: \",metrics.mean_squared_error(y_train, pred_train))\n",
    "print (\"Test MSE: \",metrics.mean_squared_error(y_test, pred_test))"
   ]
  },
  {
   "cell_type": "code",
   "execution_count": 75,
   "metadata": {
    "colab": {
     "base_uri": "https://localhost:8080/"
    },
    "id": "5dyqG4b3jikg",
    "outputId": "1d8d9e47-6c41-4453-af4d-051c75be151c"
   },
   "outputs": [
    {
     "name": "stdout",
     "output_type": "stream",
     "text": [
      "Train MAPE:  21.90666766248472\n",
      "Test MAPE:  23.0946165667177\n",
      "Train RMSE:  275435.3559058606\n",
      "Test RMSE:  303644.57881268795\n",
      "Train MSE:  75864635282.9881\n",
      "Test MSE:  92200030242.33466\n"
     ]
    }
   ],
   "source": [
    "# Create the hyperparameter grid\n",
    "l1_space = np.linspace(0, 1, 30)\n",
    "param_grid = {'l1_ratio': l1_space}\n",
    "\n",
    "# Instantiate the ElasticNet regressor: elastic_net\n",
    "elastic_net = ElasticNet()\n",
    "\n",
    "# Setup the GridSearchCV object: gm_cv\n",
    "gm_cv = GridSearchCV(elastic_net, param_grid, cv=7)\n",
    "\n",
    "# Fit it to the training data\n",
    "gm_cv.fit(X_train, y_train)\n",
    "\n",
    "pred_train = gm_cv.predict(X_train)\n",
    "pred_test = gm_cv.predict(X_test)\n",
    "print('Train MAPE: ', mape(y_train, pred_train))\n",
    "print('Test MAPE: ', mape(y_test, pred_test))\n",
    "print (\"Train RMSE: \",np.sqrt(metrics.mean_squared_error(y_train, pred_train)))\n",
    "print (\"Test RMSE: \",np.sqrt(metrics.mean_squared_error(y_test, pred_test)))\n",
    "print (\"Train MSE: \",metrics.mean_squared_error(y_train, pred_train))\n",
    "print (\"Test MSE: \",metrics.mean_squared_error(y_test, pred_test))"
   ]
  },
  {
   "cell_type": "code",
   "execution_count": 76,
   "metadata": {
    "colab": {
     "base_uri": "https://localhost:8080/"
    },
    "id": "F1MwlMqu4-Ew",
    "outputId": "c1ce23f2-502f-41e9-caf8-b705b88bce15"
   },
   "outputs": [
    {
     "name": "stdout",
     "output_type": "stream",
     "text": [
      "Train MAPE:  15.227412802257714\n",
      "Test MAPE:  24.271171761683767\n",
      "Train RMSE:  200136.20612400927\n",
      "Test RMSE:  338905.8018305729\n",
      "Train MSE:  40054501001.71192\n",
      "Test MSE:  114857142514.42355\n"
     ]
    }
   ],
   "source": [
    "#Using XGB\n",
    "model_X = XGBRegressor(objective= 'reg:squarederror')\n",
    "model_X.fit(X_train, y_train)\n",
    "pred_train = model_X.predict(X_train)\n",
    "pred_test = model_X.predict(X_test)\n",
    "print('Train MAPE: ', mape(y_train, pred_train))\n",
    "print('Test MAPE: ', mape(y_test, pred_test))\n",
    "print (\"Train RMSE: \",np.sqrt(metrics.mean_squared_error(y_train, pred_train)))\n",
    "print (\"Test RMSE: \",np.sqrt(metrics.mean_squared_error(y_test, pred_test)))\n",
    "print (\"Train MSE: \",metrics.mean_squared_error(y_train, pred_train))\n",
    "print (\"Test MSE: \",metrics.mean_squared_error(y_test, pred_test))"
   ]
  },
  {
   "cell_type": "code",
   "execution_count": 77,
   "metadata": {
    "colab": {
     "base_uri": "https://localhost:8080/"
    },
    "id": "Ut4kFhzjxUqs",
    "outputId": "a9e33bf2-c3f5-4778-87d9-599617bd9616"
   },
   "outputs": [
    {
     "name": "stdout",
     "output_type": "stream",
     "text": [
      "Train MAPE:  20.362415020146756\n",
      "Test MAPE:  23.43396254765618\n",
      "Train RMSE:  274318.1530303145\n",
      "Test RMSE:  346425.0173261863\n",
      "Train MSE:  75250449081.96303\n",
      "Test MSE:  120010292629.44846\n"
     ]
    }
   ],
   "source": [
    "# KNN Algorithm tuning\n",
    "k_values = np.array([1,3,5,7,9,11,13,15,17,19,21])\n",
    "param_grid = dict(n_neighbors=k_values)\n",
    "modelk = KNeighborsRegressor()\n",
    "kfold = KFold(n_splits=num_folds, random_state=seed)\n",
    "grid = GridSearchCV(estimator=modelk, param_grid=param_grid, scoring=scoring, cv=kfold)\n",
    "grid_result = grid.fit(X_train, y_train)\n",
    "pred_train = grid.predict(X_train)\n",
    "pred_test = grid.predict(X_test)\n",
    "print('Train MAPE: ', mape(y_train, pred_train))\n",
    "print('Test MAPE: ', mape(y_test, pred_test))\n",
    "print (\"Train RMSE: \",np.sqrt(metrics.mean_squared_error(y_train, pred_train)))\n",
    "print (\"Test RMSE: \",np.sqrt(metrics.mean_squared_error(y_test, pred_test)))\n",
    "print (\"Train MSE: \",metrics.mean_squared_error(y_train, pred_train))\n",
    "print (\"Test MSE: \",metrics.mean_squared_error(y_test, pred_test))"
   ]
  },
  {
   "cell_type": "code",
   "execution_count": 78,
   "metadata": {
    "colab": {
     "base_uri": "https://localhost:8080/"
    },
    "id": "p-J-Pn8CMQFJ",
    "outputId": "84080a1d-9ef5-4a46-b73c-9496f1d94c2e"
   },
   "outputs": [
    {
     "name": "stdout",
     "output_type": "stream",
     "text": [
      "Train MAPE:  22.360027506684478\n",
      "Test MAPE:  23.14105323479526\n",
      "Train RMSE:  275446.8855672722\n",
      "Test RMSE:  300419.95018150134\n",
      "Train MSE:  75870986768.70993\n",
      "Test MSE:  90252146467.05574\n"
     ]
    }
   ],
   "source": [
    "from sklearn.linear_model import SGDRegressor\n",
    "\n",
    "# Instantiate the ElasticNet regressor: elastic_net\n",
    "sdg_reg = SGDRegressor(max_iter=1000, tol=-np.infty, warm_start=True,\n",
    "                       penalty='l2', learning_rate=\"constant\", eta0=0.0005,random_state=1001)\n",
    "\n",
    "\n",
    "# Fit it to the training data\n",
    "sdg_reg.fit(X_train, y_train)\n",
    "\n",
    "\n",
    "pred_train = sdg_reg.predict(X_train)\n",
    "pred_test = sdg_reg.predict(X_test)\n",
    "print('Train MAPE: ', mape(y_train, pred_train))\n",
    "print('Test MAPE: ', mape(y_test, pred_test))\n",
    "print (\"Train RMSE: \",np.sqrt(metrics.mean_squared_error(y_train, pred_train)))\n",
    "print (\"Test RMSE: \",np.sqrt(metrics.mean_squared_error(y_test, pred_test)))\n",
    "print (\"Train MSE: \",metrics.mean_squared_error(y_train, pred_train))\n",
    "print (\"Test MSE: \",metrics.mean_squared_error(y_test, pred_test))"
   ]
  },
  {
   "cell_type": "code",
   "execution_count": 79,
   "metadata": {
    "colab": {
     "base_uri": "https://localhost:8080/",
     "height": 353
    },
    "id": "l65nkgYjz-MY",
    "outputId": "9589f432-9970-4b33-b83a-0a530d67da79"
   },
   "outputs": [
    {
     "data": {
      "image/png": "[encoded data removed]",
      "text/plain": [
       "<Figure size 1440x360 with 2 Axes>"
      ]
     },
     "metadata": {
      "needs_background": "light",
      "tags": []
     },
     "output_type": "display_data"
    }
   ],
   "source": [
    "plot_model_evaluation(y_test, pred_test)"
   ]
  },
  {
   "cell_type": "markdown",
   "metadata": {
    "id": "2KEoRB9t-IM4"
   },
   "source": [
    "#### **Report**"
   ]
  },
  {
   "cell_type": "markdown",
   "metadata": {
    "id": "E6jSdOZ29Ien"
   },
   "source": [
    "**Evaluating SGD model**\n",
    "\n",
    "checking out its coefficients and how we can interpret them."
   ]
  },
  {
   "cell_type": "code",
   "execution_count": 80,
   "metadata": {
    "colab": {
     "base_uri": "https://localhost:8080/",
     "height": 421
    },
    "id": "QSWUFjMT8tan",
    "outputId": "0fcbb6a0-e88b-4e00-97e3-588d0ce2953f"
   },
   "outputs": [
    {
     "data": {
      "text/html": [
       "<div>\n",
       "<style scoped>\n",
       "    .dataframe tbody tr th:only-of-type {\n",
       "        vertical-align: middle;\n",
       "    }\n",
       "\n",
       "    .dataframe tbody tr th {\n",
       "        vertical-align: top;\n",
       "    }\n",
       "\n",
       "    .dataframe thead th {\n",
       "        text-align: right;\n",
       "    }\n",
       "</style>\n",
       "<table border=\"1\" class=\"dataframe\">\n",
       "  <thead>\n",
       "    <tr style=\"text-align: right;\">\n",
       "      <th></th>\n",
       "      <th>Coefficient</th>\n",
       "    </tr>\n",
       "  </thead>\n",
       "  <tbody>\n",
       "    <tr>\n",
       "      <th>bedrooms</th>\n",
       "      <td>92621.289302</td>\n",
       "    </tr>\n",
       "    <tr>\n",
       "      <th>bathrooms</th>\n",
       "      <td>-140757.538410</td>\n",
       "    </tr>\n",
       "    <tr>\n",
       "      <th>toilets</th>\n",
       "      <td>160641.592624</td>\n",
       "    </tr>\n",
       "    <tr>\n",
       "      <th>parking</th>\n",
       "      <td>13151.827086</td>\n",
       "    </tr>\n",
       "    <tr>\n",
       "      <th>New/Old</th>\n",
       "      <td>-67530.483445</td>\n",
       "    </tr>\n",
       "    <tr>\n",
       "      <th>Type</th>\n",
       "      <td>163888.241106</td>\n",
       "    </tr>\n",
       "    <tr>\n",
       "      <th>Serviced/Not</th>\n",
       "      <td>147892.460383</td>\n",
       "    </tr>\n",
       "    <tr>\n",
       "      <th>Estate/Not</th>\n",
       "      <td>102667.012335</td>\n",
       "    </tr>\n",
       "    <tr>\n",
       "      <th>Totalrooms</th>\n",
       "      <td>112505.343515</td>\n",
       "    </tr>\n",
       "    <tr>\n",
       "      <th>gbagada</th>\n",
       "      <td>-72911.188738</td>\n",
       "    </tr>\n",
       "    <tr>\n",
       "      <th>surulere</th>\n",
       "      <td>26014.529900</td>\n",
       "    </tr>\n",
       "    <tr>\n",
       "      <th>yaba</th>\n",
       "      <td>-65915.321482</td>\n",
       "    </tr>\n",
       "  </tbody>\n",
       "</table>\n",
       "</div>"
      ],
      "text/plain": [
       "                Coefficient\n",
       "bedrooms       92621.289302\n",
       "bathrooms    -140757.538410\n",
       "toilets       160641.592624\n",
       "parking        13151.827086\n",
       "New/Old       -67530.483445\n",
       "Type          163888.241106\n",
       "Serviced/Not  147892.460383\n",
       "Estate/Not    102667.012335\n",
       "Totalrooms    112505.343515\n",
       "gbagada       -72911.188738\n",
       "surulere       26014.529900\n",
       "yaba          -65915.321482"
      ]
     },
     "execution_count": 80,
     "metadata": {
      "tags": []
     },
     "output_type": "execute_result"
    }
   ],
   "source": [
    "coeff_df = pd.DataFrame(sdg_reg.coef_,X.columns,columns=['Coefficient']) \n",
    "coeff_df"
   ]
  },
  {
   "cell_type": "markdown",
   "metadata": {
    "id": "S6dGt41FSrES"
   },
   "source": [
    "* Holding all other features fixed, a 1 unit increase in bedrooms is associated with an increase of N92621.289302.\n",
    "* Holding all other features fixed, a 1 unit increase in toilet is associated with an increase of N160641.592624\n",
    "* Holding all other features fixed, a 1 unit increase in parking is associated with an increase of N13151.827086\n",
    "* Holding all other features fixed, if the Types of house is either 'new','luxurious','executive','luxury','newly','attic','Exquisitely'is associated will give an increase of N163888.241106\n",
    "* Holding all other features fixed, if the house is Serviced it is associated with an increase of N147892.460383\n",
    "* Holding all other features fixed, if the house is in an Estate it is  associated with an increase of N102667.012335\n",
    "* Holding all other features fixed, a 1 unit increase in Totalrooms is associated with an increase of N112505.343515\n",
    "* Holding all other features fixed, if house in surulere it is associated with an increase of N26014.529900.\n",
    "\n",
    "All other features had a negative coefficient."
   ]
  },
  {
   "cell_type": "markdown",
   "metadata": {
    "id": "K6_kFC4r4PUC"
   },
   "source": [
    "\n",
    "In this work, several tests have been performed using linear\n",
    "regression, regularization algorithms, Stochastic Gradient Descent, Random Forest, XGBoost, K-NearestNeighbor, Decision tree Regressor and Support vetor to perform\n",
    "house price prediction. Based on the data of 241 houses,\n",
    "the system is modeling house price predictions and we tried  9 algorithms \n",
    "each learned from the training data and predicted on the test data then we checked the best performing model using cross validation. After which we had 7 models then we used MAPE, MAE and RMSE to select the over all best. The algorithms used the following features of houses located in Lagos such as \n",
    "Bedrooms,bathrooms,toilets,parking,New/old houses, Type of house, Estate or not, serviced  or not and total rooms and location. Based on the\n",
    "result from test using the assigned metrics, Linear Regression, Lasso Regression , Ridge Regression, EslasticNet, SGD had the best performance using some advanced parameters in Lasso Regression , Ridge Regression, ElasticNet, SGD. We conclude that SGD had the over all best using MAPE, MAE and RMSE together but looking closly at the RMSE. Those best values of\n",
    "parameters 1000 iterations, tol=-np.infty,penalty='l2', learning_rate=\"constant\", eta0=0.0005 can get minimum prediction error\n",
    "RMSE as 300419, MSE as 90252146467 and MAPE as 23. For the other model excluding Linear Regression, Lasso Regression , Ridge Regression, EslasticNet which had similar result with SGD, the error prediction\n",
    "values are still large. \n",
    "\n",
    "**Challanges**\n",
    "1. Not enough data\n",
    "2. Explanination from domain expert on the outliers in different building locations\n",
    "3. Features such as Electricity availability and water availability was missing as this pose a great important to house prices in Lagos.\n",
    "\n",
    "Tuning the SGD model more can help obtain\n",
    "smaller error prediction values and using more data to get the\n",
    "better result\n",
    "\n",
    "From the analysis the following will likely infulence house prices such as Total rooms, The type of House, where the house is located either in an estate or not and if the the house is serviced or not thats if it has a regular house management service. However, we couldn't tell if constant electricity, water and closeness to recreation centre can increse the price of a particular house. we also observed some collinerity among features and this is where algorithm like LASSO, RIDGE and ElasticNET tends to be smarter.\n"
   ]
  },
  {
   "cell_type": "code",
   "execution_count": null,
   "metadata": {
    "id": "xfAu3khMhSEU"
   },
   "outputs": [],
   "source": []
  },
  {
   "cell_type": "markdown",
   "metadata": {
    "id": "li78lwxL19Ix"
   },
   "source": []
  },
  {
   "cell_type": "markdown",
   "metadata": {
    "id": "Hp5uNPZJ19U0"
   },
   "source": [
    "## **Stage 4. Probability theory**\n",
    "\n",
    "**Step 1**\n",
    "* Pick up a lottery. For example, https://www.eurojackpot.com/ etc. Do not pick up\n",
    "bingo type lotteries.\n",
    "* Describe the lottery.\n",
    "\n",
    "Eurojackpot is based in Europe and offers jackpots as high as €90 million every Friday. You are required to choose numbers and depending on the number of correct predictions, you are entitled to stipulated winnings.\n",
    "\n",
    "* Describe the winning conditions\n",
    "\n",
    "Correctly choose 5 numbers from 1 – 50 and an additional two numbers from 1 - 10 to win the jackpot.\n"
   ]
  },
  {
   "cell_type": "markdown",
   "metadata": {
    "id": "Ick7ZcmBBjhh"
   },
   "source": [
    "**Step 2**\n",
    "\n",
    "Compute the probabilities of winning for each case. For example, as in here\n",
    "https://en.wikipedia.org/wiki/Eurojackpot\n",
    "\n",
    "**Step 3**\n",
    "\n",
    "Explain your computation.\n",
    "\n",
    "**Step 4**\n",
    "\n",
    "Write a small report on that."
   ]
  },
  {
   "cell_type": "markdown",
   "metadata": {
    "id": "y7h8aY7yTn-F"
   },
   "source": [
    "\\begin{equation*}\n",
    "\\frac{n!}{r(n-r)!}\n",
    "\\end{equation*}\n",
    "\n",
    "n = Total number of possible numbers\n",
    "\n",
    "r = Number of numbers chosen \n",
    "\n",
    "! = Factorial"
   ]
  },
  {
   "cell_type": "markdown",
   "metadata": {
    "id": "8MM_GgPeUaD1"
   },
   "source": [
    "### **1 Jackpot**\n",
    "(5 correct numbers out of 50 plus 2 supplenentary numbers out of another 10 i.e 5 + 2)**\n",
    "\n",
    "Solution:\n",
    "\n",
    "To get 5 numbers out of 50:\n",
    "\n",
    "n=50\n",
    "\n",
    "r=5 \n",
    "\n",
    "\\begin{equation*}\n",
    "\\frac{50!}{5(50-5)!} = \\frac{50!}{5! * 45!} = 2118760\n",
    "\\end{equation*}\n",
    "\n",
    "To get 2 supplementary numbers out of 10\n",
    "\n",
    "n=10\n",
    "\n",
    "r=2\n",
    "\n",
    "\\begin{equation*}\n",
    "\\frac{10!}{2(10-2)!} = \\frac{10!}{2! * 8!} = 45\n",
    "\\end{equation*}\n",
    "\n"
   ]
  },
  {
   "cell_type": "code",
   "execution_count": 7,
   "metadata": {
    "id": "zUHKfwkF2ed1"
   },
   "outputs": [],
   "source": [
    "import math \n",
    "\n",
    "def fact(x,y,z):\n",
    "  fact1 = math.factorial(x)\n",
    "  fact2 = math.factorial(y)\n",
    "  fact3 = math.factorial(z)\n",
    "  x = fact1/ (fact2 * fact3)\n",
    "  print(x)"
   ]
  },
  {
   "cell_type": "code",
   "execution_count": 9,
   "metadata": {
    "colab": {
     "base_uri": "https://localhost:8080/"
    },
    "id": "9p0lKzEiPTy6",
    "outputId": "272c9f1f-5c31-45da-a934-686517c0290b"
   },
   "outputs": [
    {
     "name": "stdout",
     "output_type": "stream",
     "text": [
      "2118760.0\n",
      "45.0\n"
     ]
    },
    {
     "data": {
      "text/plain": [
       "(None, None)"
      ]
     },
     "execution_count": 9,
     "metadata": {
      "tags": []
     },
     "output_type": "execute_result"
    }
   ],
   "source": [
    "fact(50,5,45), fact(10,2,8)"
   ]
  },
  {
   "cell_type": "markdown",
   "metadata": {
    "id": "Jr4WB4z7fSNG"
   },
   "source": [
    "probability of 5 correct numbers out of 50 = 2118760 * 45 \n",
    "\n",
    "plus 2 supplementary numbers out of 10 = 95,344,199.4\n",
    "\n",
    "Therefore, probability of 5 + 2 = 1: 95,344,199.4"
   ]
  },
  {
   "cell_type": "markdown",
   "metadata": {
    "id": "N_uFiTfEgO3k"
   },
   "source": [
    "### **2. choosing correctly 5 out of 5 and 1 out of 2**\n",
    "\n",
    "5 correct numbers out of 50  plus 1 of 10 supplementary numbers i.e 5+1 \n",
    "\n",
    "probability of 5 out of 50 = 1:2118760\n",
    "\n",
    "probability of choosing 1 oout of 2 supplementary numbers i.e 5 + 1\n",
    "\n",
    "\\begin{equation*}\n",
    "\\frac{r!}{k!(r-k)!} * \\frac{(n-r)!}{((n-r)-(r-k)! * (r-k)!)}\n",
    "\\end{equation*}\n",
    "\n",
    "k = Number you choose correctly\n",
    "\n",
    "r = Holds number drawn \n",
    "\n",
    "n = holds number of possible numbers \n",
    "\n",
    "\\begin{equation*}\n",
    "\\frac{2!}{1!(2-1)!} * \\frac{(10-2)!}{((10-2)-(2-1)! * (2-1)!)} = \\frac{2 * 40320}{5040} = 16\n",
    "\\end{equation*}\n",
    "\n",
    "\n"
   ]
  },
  {
   "cell_type": "code",
   "execution_count": 58,
   "metadata": {
    "id": "pa-ivrNikWxR"
   },
   "outputs": [],
   "source": [
    "def factII(n,r,k):\n",
    "  fact1 = math.factorial(n)\n",
    "  fact2 = math.factorial(r)\n",
    "  fact3 = math.factorial(k)+\n",
    "  a = n-r\n",
    "  b = r -k\n",
    "  c = a - b\n",
    "  fact4 = math.factorial(a)\n",
    "  fact5 = math.factorial(c)\n",
    "  fact6 = math.factorial(b)\n",
    "  x = fact2 * fact4\n",
    "  y = fact3*(fact6) * ((fact5) * (fact6))\n",
    "  z = x/y\n",
    "  print(z)"
   ]
  },
  {
   "cell_type": "code",
   "execution_count": 59,
   "metadata": {
    "colab": {
     "base_uri": "https://localhost:8080/"
    },
    "id": "bZsaAXDMl1Wq",
    "outputId": "5af7488a-d5e9-44e9-a8ae-7d9c2fb26489"
   },
   "outputs": [
    {
     "name": "stdout",
     "output_type": "stream",
     "text": [
      "16.0\n"
     ]
    }
   ],
   "source": [
    "factII(10,2,1)"
   ]
  },
  {
   "cell_type": "markdown",
   "metadata": {
    "id": "6naeJM96kXyc"
   },
   "source": [
    "probability of choosing 1 out of 2 supplementary numbers = 16/45\n",
    "\n",
    "Thus,  the probability of 5 + 1 = 2118760 * 45/16 = 5959013\n",
    "\n",
    "Probability of 5 + 1 =  1:5959012.5 "
   ]
  },
  {
   "cell_type": "markdown",
   "metadata": {
    "id": "u-lRWWIWsxcX"
   },
   "source": [
    "### **3. Choosing correctly 5 out of 5 and 0 out of 2**\n",
    "\n",
    "5 correct numbers out of 50  plus 0 of 10 supplementary numbers i.e 5+0\n",
    "\n",
    "Probability of 5 out of 50  = 1:2118760\n",
    "\n",
    "\n",
    "probability of choosing 0 out of 2 supplementary numbers \n",
    "\n",
    "\\begin{equation*}\n",
    "\\frac{r!}{k!(r-k)!} * \\frac{(n-r)!}{((n-r)-(r-k)! * (r-k)!)}\n",
    "\\end{equation*}\n",
    "\n",
    "k = Number you choose correctly\n",
    "\n",
    "r = Holds number drawn \n",
    "\n",
    "n = holds number of possible numbers \n",
    "\n",
    "\\begin{equation*}\n",
    "\\frac{2!}{1!(2-0)!} * \\frac{(10-2)!}{((10-2)-(2-0)! * (2-0)!)} = \\frac{2 * 40320}{2 * 6! * 2} = 28\n",
    "\\end{equation*}\n",
    "\n",
    "\n"
   ]
  },
  {
   "cell_type": "code",
   "execution_count": 60,
   "metadata": {
    "colab": {
     "base_uri": "https://localhost:8080/"
    },
    "id": "YUShI5vgo0e4",
    "outputId": "4e597566-291b-42db-9f00-84db580f8117"
   },
   "outputs": [
    {
     "name": "stdout",
     "output_type": "stream",
     "text": [
      "28.0\n"
     ]
    }
   ],
   "source": [
    "factII(10,2,0)"
   ]
  },
  {
   "cell_type": "markdown",
   "metadata": {
    "id": "KnyUxYruvB3P"
   },
   "source": [
    "Probability of choosing 0 out of 2 supplementary numbers = 28/45\n",
    "\n",
    "Thus, the probability of 5 + 0  = 2118760 * 45/28 = 3405150\n",
    "\n",
    "Probability of 5 + 0 = 1:3405150"
   ]
  },
  {
   "cell_type": "markdown",
   "metadata": {
    "id": "QDyByBTYw7nc"
   },
   "source": [
    "### **4. Choosing correctly 4 out of 5 and 2 out of 2**\n",
    "4 correct numbers out of 50  plus 2 of 10 supplementary numbers i.e 4+2\n",
    "\n",
    "Probability of 4:\n",
    "\n",
    "\n",
    "\\begin{equation*}\n",
    "\\frac{r!}{k!(r-k)!} * \\frac{(n-r)!}{((n-r)-(r-k)! * (r-k)!)} =\n",
    "\\end{equation*}\n",
    "\n",
    "\n",
    "\\begin{equation*}\n",
    "\\frac{5!}{4!(5-4)!} * \\frac{(50-5)!}{((50-5)-(5-4)! * (5-4)!)} = \\frac{120}{24} * \\frac{45!}{44!} = 225\n",
    "\\end{equation*}"
   ]
  },
  {
   "cell_type": "code",
   "execution_count": 61,
   "metadata": {
    "colab": {
     "base_uri": "https://localhost:8080/"
    },
    "id": "z5mR3EQ6u46I",
    "outputId": "1e888fb4-2e16-439c-ecba-caa5e523e854"
   },
   "outputs": [
    {
     "name": "stdout",
     "output_type": "stream",
     "text": [
      "225.0\n"
     ]
    }
   ],
   "source": [
    "factII(50,5,4)"
   ]
  },
  {
   "cell_type": "markdown",
   "metadata": {
    "id": "zGHXNt54ysNQ"
   },
   "source": [
    "Probability of 4 from 5 = 225/2118760\n",
    "\n",
    "Probability of 2 supplementary numbers = 1/45 \n",
    "\n",
    "Probability of 4 + 2 = 225/2118760 * 1/45 = 1:423752"
   ]
  },
  {
   "cell_type": "markdown",
   "metadata": {
    "id": "HRzYWj9c7aP5"
   },
   "source": [
    "### **5. Choosing correctly 4 out of 5 ang 1 out of 2**\n",
    "\n",
    "probability of 4 from 5 = 225/2118760\n",
    "\n",
    "Probrbility of 1 out of 2 supplementary numbers = 16/45 \n",
    "\n",
    "Probability of 4 + 1 = 225/2118760 * 16/45 = 1:26485 \n",
    "\n"
   ]
  },
  {
   "cell_type": "markdown",
   "metadata": {
    "id": "yWLuj4OP8RWx"
   },
   "source": [
    "### **6. choosing correctly 4 out of 5 and 0 out of 2**\n",
    "\n",
    "Probability of 4 from 5 = 225/2118760 \n",
    "\n",
    "Probability of choosing 0 out of 2 = 28/45 \n",
    "\n",
    "Probability of 4 + 0  = 225/2118760 * 28/45 = 1:15134"
   ]
  },
  {
   "cell_type": "markdown",
   "metadata": {
    "id": "qQSdvOrd4DMG"
   },
   "source": [
    "### **7. Choosing correctly 3 out of 5 and 2 out of 2** \n",
    "\n",
    "3 correct numbers out of 50  plus 2 of 10 supplementary numbers i.e 3+2\n",
    "\n",
    "Probability of 3 out of 5:\n",
    "\n",
    "\\begin{equation*}\n",
    "\\frac{5!}{3!(5-3)!} * \\frac{(50-3)!}{((50-3)-(5-3)! * (5-3)!)} = \\frac{120}{12} * \\frac{990}{1} = 9900\n",
    "\\end{equation*}"
   ]
  },
  {
   "cell_type": "code",
   "execution_count": 62,
   "metadata": {
    "colab": {
     "base_uri": "https://localhost:8080/"
    },
    "id": "gMsyEhbAyl3e",
    "outputId": "e223864b-c3c4-4239-e946-67e72ecc1595"
   },
   "outputs": [
    {
     "name": "stdout",
     "output_type": "stream",
     "text": [
      "9900.0\n"
     ]
    }
   ],
   "source": [
    "factII(50,5,3)"
   ]
  },
  {
   "cell_type": "markdown",
   "metadata": {
    "id": "45HwIPNR6MPZ"
   },
   "source": [
    "Probability of 3 from 5  = 9900/2118760\n",
    "\n",
    "Probability of 2 from 2 = 1/45 \n",
    "\n",
    "Probability of 3 + 2 = 990/2118760 * 1/45  = 1:9631"
   ]
  },
  {
   "cell_type": "markdown",
   "metadata": {
    "id": "OMv3_R2M9MhL"
   },
   "source": [
    "### **8. Choosing correctly 3 out of 5 and 1 out of 2**\n",
    "\n",
    "3 correct numbers out of 50 plus 1 correct number out of 10 supplementary numbers \n",
    "\n",
    "Probability of 3 from 5  = 9900/2118760\n",
    "\n",
    "Probability of 1 from 2  = 16/45\n",
    "\n",
    "Probability of 3 : 5 = 9900/2118760 * 16/45  = 1:602"
   ]
  },
  {
   "cell_type": "markdown",
   "metadata": {
    "id": "1UChBZ9t-HAy"
   },
   "source": [
    "### **9. Choosing correctly 3 out of 5 and 0 out of 2**\n",
    "\n",
    "3 correct numbers out of 50 \n",
    "\n",
    "Probability of 3 from 5  = 9900/2118760\n",
    "\n",
    "Probability of 0 from 2  = 28/45 \n",
    "\n",
    "Probability of 3 : 0  = 9900/2118760 * 28/45  = 1:344"
   ]
  },
  {
   "cell_type": "markdown",
   "metadata": {
    "id": "_TS6DjuZ-zXe"
   },
   "source": [
    "### **10. Choosing correctly 2 out of 5 and 2 out of 2**\n",
    "2 correct numbers out of 50  plus 2 of 10 supplementary numbers i.e 2+2\n",
    "\n",
    "Probability of 2 out of 5\n",
    "\n",
    "\\begin{equation*}\n",
    "\\frac{5!}{2!(5-2)!} * \\frac{(50-2)!}{((50-2)-(5-2)! * (5-2)!)} = \\frac{120}{12} * \\frac{45}{42! * 3!} = 141900\n",
    "\\end{equation*}\n",
    "\n"
   ]
  },
  {
   "cell_type": "code",
   "execution_count": 63,
   "metadata": {
    "colab": {
     "base_uri": "https://localhost:8080/"
    },
    "id": "fRQuj-qF6FAi",
    "outputId": "f8c6467c-984b-44f3-87f4-b02e9c734cf0"
   },
   "outputs": [
    {
     "name": "stdout",
     "output_type": "stream",
     "text": [
      "141900.0\n"
     ]
    }
   ],
   "source": [
    "factII(50,5,2)"
   ]
  },
  {
   "cell_type": "markdown",
   "metadata": {
    "id": "uYqh6VoA_pxp"
   },
   "source": [
    "Probability of 2 from 5  = 141900/2118760 \n",
    "\n",
    "Probability of 2 from 2  = 1/45\n",
    "\n",
    "Probability of 2 + 2 = 141900/2118760 * 1/45 = 1:672\n"
   ]
  },
  {
   "cell_type": "markdown",
   "metadata": {
    "id": "VChaCzuICntd"
   },
   "source": [
    "### **11. Choosing correctly 2 out of 5 and 1 out of 2**\n",
    "\n",
    "Probability of 2 out of 5  = 141900/2118760\n",
    "\n",
    "Probability of 1 out of 2 = 16/45 \n",
    "\n",
    "Probability of 2+1 = 141900/2118760 * 16/45 = 1:42"
   ]
  },
  {
   "cell_type": "markdown",
   "metadata": {
    "id": "s5jxe09sEsoe"
   },
   "source": [
    "### 12. **Choosing correctly 1 out of 5 and 2 out of 2**\n",
    "\n",
    "Probability of 1 out of 5 \n",
    "\n",
    "\\begin{equation*}\n",
    "\\frac{5!}{1!(5-1)!} * \\frac{(50-1)!}{((50-1)-(5-1)! * (5-1)!)} = \\frac{120}{24} * \\frac{45!}{41! * 4!} = 744975\n",
    "\\end{equation*}\n"
   ]
  },
  {
   "cell_type": "code",
   "execution_count": 64,
   "metadata": {
    "colab": {
     "base_uri": "https://localhost:8080/"
    },
    "id": "F6Oo1gJg_nmP",
    "outputId": "c4a5cbab-eca0-4ad7-fd6e-fd47d9694c38"
   },
   "outputs": [
    {
     "name": "stdout",
     "output_type": "stream",
     "text": [
      "744975.0\n"
     ]
    }
   ],
   "source": [
    "factII(50,5,1)"
   ]
  },
  {
   "cell_type": "markdown",
   "metadata": {
    "id": "qC6OZnPcFW6C"
   },
   "source": [
    "Probability of 1 out of 5  = 744975/2118760\n",
    "\n",
    "Probability of 2 out of 2  = 1/45\n",
    "\n",
    "Probability of 1:2 = 1:128"
   ]
  },
  {
   "cell_type": "markdown",
   "metadata": {
    "id": "_ldpJZvhFqdQ"
   },
   "source": [
    "| Winning      | Probability of winning|\n",
    "| ----------- | ----------- |\n",
    "|   5 +2 (jackpot)  | 1 : 95 344 200|\n",
    "| 5 + 1 | 1 : 5 959 013| \n",
    "| 5 | 1 : 3 405 150|\n",
    "| 4 + 2| 1 : 423 752|\n",
    "| 4 + 1| 1 :  26 485|\n",
    "| 4 | 1 : 15 134|\n",
    "| 3 + 2 | 1 : 9 631|\n",
    "| 3 + 1 | 1 : 602|\n",
    "| 3 | 1 : 344|\n",
    "| 2 + 2| 1 : 672|\n",
    "| 2 + 1| 1 : 42|\n",
    "| 1 + 2| 1: 128|"
   ]
  },
  {
   "cell_type": "markdown",
   "metadata": {
    "id": "EwBHU-NCH8-L"
   },
   "source": [
    "Eurojackpot: This jackpot lottery was first proposed in 2006 to compete with the EuroMillions but started in March 2012. The idea behind this lottery system is to match 5 correct numbers out of 50 numbers plus another 2 suppelementary numbers out of anither 10. The odds of winning each is comouted above. It it note worthy to mention that 18 countries participates in this lottery system and evaluation of the winning lottery tickets is done in Germany and Denmark. Also, in a case the jackpot is not won for 12 consecutive draws, the 13th draw will be subject to rolldown whereby if no winner is able to match all 7 winning numbers, the jackpot is paid out to the next winning tier where a winner is available"
   ]
  },
  {
   "cell_type": "code",
   "execution_count": null,
   "metadata": {
    "id": "vXocfg_eFUTl"
   },
   "outputs": [],
   "source": []
  }
 ],
 "metadata": {
  "colab": {
   "collapsed_sections": [],
   "name": "House Predictioncrypodaddy.ipynb",
   "provenance": []
  },
  "kernelspec": {
   "display_name": "Python 3",
   "language": "python",
   "name": "python3"
  },
  "language_info": {
   "codemirror_mode": {
    "name": "ipython",
    "version": 3
   },
   "file_extension": ".py",
   "mimetype": "text/x-python",
   "name": "python",
   "nbconvert_exporter": "python",
   "pygments_lexer": "ipython3",
   "version": "3.7.7"
  }
 },
 "nbformat": 4,
 "nbformat_minor": 1
}
